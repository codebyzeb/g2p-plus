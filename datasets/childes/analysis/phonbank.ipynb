{
 "cells": [
  {
   "cell_type": "markdown",
   "metadata": {},
   "source": [
    "# PhonBank analysis\n",
    "\n",
    "Short script to count the number of utterances in CHILDES that have phonology information available."
   ]
  },
  {
   "cell_type": "code",
   "execution_count": 21,
   "metadata": {},
   "outputs": [],
   "source": [
    "import os\n",
    "import pandas as pd\n",
    "\n",
    "languages = os.listdir('../downloaded')"
   ]
  },
  {
   "cell_type": "code",
   "execution_count": 25,
   "metadata": {},
   "outputs": [
    {
     "name": "stderr",
     "output_type": "stream",
     "text": [
      "/var/folders/nz/6tzh0bsj2txd1cz18gpcms_c0000gn/T/ipykernel_20438/3237778750.py:7: DtypeWarning: Columns (21) have mixed types. Specify dtype option on import or set low_memory=False.\n",
      "  data = pd.concat([data, pd.read_csv(f'../downloaded/{language}/{file}')])\n",
      "/var/folders/nz/6tzh0bsj2txd1cz18gpcms_c0000gn/T/ipykernel_20438/3237778750.py:7: DtypeWarning: Columns (14,21) have mixed types. Specify dtype option on import or set low_memory=False.\n",
      "  data = pd.concat([data, pd.read_csv(f'../downloaded/{language}/{file}')])\n",
      "/var/folders/nz/6tzh0bsj2txd1cz18gpcms_c0000gn/T/ipykernel_20438/3237778750.py:7: DtypeWarning: Columns (4,21) have mixed types. Specify dtype option on import or set low_memory=False.\n",
      "  data = pd.concat([data, pd.read_csv(f'../downloaded/{language}/{file}')])\n",
      "/var/folders/nz/6tzh0bsj2txd1cz18gpcms_c0000gn/T/ipykernel_20438/3237778750.py:7: DtypeWarning: Columns (3,12) have mixed types. Specify dtype option on import or set low_memory=False.\n",
      "  data = pd.concat([data, pd.read_csv(f'../downloaded/{language}/{file}')])\n",
      "/var/folders/nz/6tzh0bsj2txd1cz18gpcms_c0000gn/T/ipykernel_20438/3237778750.py:7: FutureWarning: The behavior of DataFrame concatenation with empty or all-NA entries is deprecated. In a future version, this will no longer exclude empty or all-NA columns when determining the result dtypes. To retain the old behavior, exclude the relevant entries before the concat operation.\n",
      "  data = pd.concat([data, pd.read_csv(f'../downloaded/{language}/{file}')])\n",
      "/var/folders/nz/6tzh0bsj2txd1cz18gpcms_c0000gn/T/ipykernel_20438/3237778750.py:7: FutureWarning: The behavior of DataFrame concatenation with empty or all-NA entries is deprecated. In a future version, this will no longer exclude empty or all-NA columns when determining the result dtypes. To retain the old behavior, exclude the relevant entries before the concat operation.\n",
      "  data = pd.concat([data, pd.read_csv(f'../downloaded/{language}/{file}')])\n",
      "/var/folders/nz/6tzh0bsj2txd1cz18gpcms_c0000gn/T/ipykernel_20438/3237778750.py:7: FutureWarning: The behavior of DataFrame concatenation with empty or all-NA entries is deprecated. In a future version, this will no longer exclude empty or all-NA columns when determining the result dtypes. To retain the old behavior, exclude the relevant entries before the concat operation.\n",
      "  data = pd.concat([data, pd.read_csv(f'../downloaded/{language}/{file}')])\n",
      "/var/folders/nz/6tzh0bsj2txd1cz18gpcms_c0000gn/T/ipykernel_20438/3237778750.py:7: FutureWarning: The behavior of DataFrame concatenation with empty or all-NA entries is deprecated. In a future version, this will no longer exclude empty or all-NA columns when determining the result dtypes. To retain the old behavior, exclude the relevant entries before the concat operation.\n",
      "  data = pd.concat([data, pd.read_csv(f'../downloaded/{language}/{file}')])\n",
      "/var/folders/nz/6tzh0bsj2txd1cz18gpcms_c0000gn/T/ipykernel_20438/3237778750.py:7: FutureWarning: The behavior of DataFrame concatenation with empty or all-NA entries is deprecated. In a future version, this will no longer exclude empty or all-NA columns when determining the result dtypes. To retain the old behavior, exclude the relevant entries before the concat operation.\n",
      "  data = pd.concat([data, pd.read_csv(f'../downloaded/{language}/{file}')])\n",
      "/var/folders/nz/6tzh0bsj2txd1cz18gpcms_c0000gn/T/ipykernel_20438/3237778750.py:7: DtypeWarning: Columns (16) have mixed types. Specify dtype option on import or set low_memory=False.\n",
      "  data = pd.concat([data, pd.read_csv(f'../downloaded/{language}/{file}')])\n",
      "/var/folders/nz/6tzh0bsj2txd1cz18gpcms_c0000gn/T/ipykernel_20438/3237778750.py:7: DtypeWarning: Columns (21) have mixed types. Specify dtype option on import or set low_memory=False.\n",
      "  data = pd.concat([data, pd.read_csv(f'../downloaded/{language}/{file}')])\n",
      "/var/folders/nz/6tzh0bsj2txd1cz18gpcms_c0000gn/T/ipykernel_20438/3237778750.py:7: DtypeWarning: Columns (16,18) have mixed types. Specify dtype option on import or set low_memory=False.\n",
      "  data = pd.concat([data, pd.read_csv(f'../downloaded/{language}/{file}')])\n",
      "/var/folders/nz/6tzh0bsj2txd1cz18gpcms_c0000gn/T/ipykernel_20438/3237778750.py:7: DtypeWarning: Columns (5) have mixed types. Specify dtype option on import or set low_memory=False.\n",
      "  data = pd.concat([data, pd.read_csv(f'../downloaded/{language}/{file}')])\n",
      "/var/folders/nz/6tzh0bsj2txd1cz18gpcms_c0000gn/T/ipykernel_20438/3237778750.py:7: DtypeWarning: Columns (21) have mixed types. Specify dtype option on import or set low_memory=False.\n",
      "  data = pd.concat([data, pd.read_csv(f'../downloaded/{language}/{file}')])\n",
      "/var/folders/nz/6tzh0bsj2txd1cz18gpcms_c0000gn/T/ipykernel_20438/3237778750.py:7: DtypeWarning: Columns (3,12) have mixed types. Specify dtype option on import or set low_memory=False.\n",
      "  data = pd.concat([data, pd.read_csv(f'../downloaded/{language}/{file}')])\n",
      "/var/folders/nz/6tzh0bsj2txd1cz18gpcms_c0000gn/T/ipykernel_20438/3237778750.py:7: DtypeWarning: Columns (4) have mixed types. Specify dtype option on import or set low_memory=False.\n",
      "  data = pd.concat([data, pd.read_csv(f'../downloaded/{language}/{file}')])\n",
      "/var/folders/nz/6tzh0bsj2txd1cz18gpcms_c0000gn/T/ipykernel_20438/3237778750.py:7: DtypeWarning: Columns (18) have mixed types. Specify dtype option on import or set low_memory=False.\n",
      "  data = pd.concat([data, pd.read_csv(f'../downloaded/{language}/{file}')])\n",
      "/var/folders/nz/6tzh0bsj2txd1cz18gpcms_c0000gn/T/ipykernel_20438/3237778750.py:7: DtypeWarning: Columns (21) have mixed types. Specify dtype option on import or set low_memory=False.\n",
      "  data = pd.concat([data, pd.read_csv(f'../downloaded/{language}/{file}')])\n",
      "/var/folders/nz/6tzh0bsj2txd1cz18gpcms_c0000gn/T/ipykernel_20438/3237778750.py:7: DtypeWarning: Columns (16) have mixed types. Specify dtype option on import or set low_memory=False.\n",
      "  data = pd.concat([data, pd.read_csv(f'../downloaded/{language}/{file}')])\n",
      "/var/folders/nz/6tzh0bsj2txd1cz18gpcms_c0000gn/T/ipykernel_20438/3237778750.py:7: DtypeWarning: Columns (3,12) have mixed types. Specify dtype option on import or set low_memory=False.\n",
      "  data = pd.concat([data, pd.read_csv(f'../downloaded/{language}/{file}')])\n",
      "/var/folders/nz/6tzh0bsj2txd1cz18gpcms_c0000gn/T/ipykernel_20438/3237778750.py:7: FutureWarning: The behavior of DataFrame concatenation with empty or all-NA entries is deprecated. In a future version, this will no longer exclude empty or all-NA columns when determining the result dtypes. To retain the old behavior, exclude the relevant entries before the concat operation.\n",
      "  data = pd.concat([data, pd.read_csv(f'../downloaded/{language}/{file}')])\n",
      "/var/folders/nz/6tzh0bsj2txd1cz18gpcms_c0000gn/T/ipykernel_20438/3237778750.py:7: DtypeWarning: Columns (16,18) have mixed types. Specify dtype option on import or set low_memory=False.\n",
      "  data = pd.concat([data, pd.read_csv(f'../downloaded/{language}/{file}')])\n"
     ]
    },
    {
     "name": "stdout",
     "output_type": "stream",
     "text": [
      "{'Dutch': 0, 'Korean': 0, 'Serbian': 0, 'Catalan': 0, 'Irish': 0, 'Japanese': 0, 'Eng-UK': 0, 'German': 10667, 'Estonian': 0, 'Hungarian': 0, 'Welsh': 0, 'Romanian': 0, 'Mandarin': 0, 'Turkish': 0, 'Icelandic': 0, 'Italian': 0, 'Norwegian': 318, 'Danish': 0, 'Polish': 0, 'Croatian': 0, 'French': 6895, 'Swedish': 0, 'Cantonese': 0, 'Spanish': 1, 'Farsi': 0, 'PortuguesePt': 0, 'Indonesian': 0, 'Quechua': 0, 'PortugueseBr': 0, 'Eng-NA': 202, 'Basque': 0}\n"
     ]
    }
   ],
   "source": [
    "counts = {}\n",
    "for language in languages:\n",
    "    files = os.listdir(f'../downloaded/{language}')\n",
    "\n",
    "    data = pd.DataFrame()\n",
    "    for file in files:\n",
    "        data = pd.concat([data, pd.read_csv(f'../downloaded/{language}/{file}')])\n",
    "\n",
    "    data['is_child'] = data['speaker_role'].isin(['Target_Child', 'Child'])\n",
    "    new_data = data[data['is_child'] == False]\n",
    "    new_data = new_data.filter(['gloss', 'model_phonology', 'actual_phonology', 'speaker_role'])\n",
    "    new_data = new_data[(new_data['model_phonology'].notna() | new_data['actual_phonology'].notna())]\n",
    "\n",
    "    counts[language] = len(new_data)\n",
    "\n",
    "print(counts)"
   ]
  },
  {
   "cell_type": "code",
   "execution_count": null,
   "metadata": {},
   "outputs": [],
   "source": []
  }
 ],
 "metadata": {
  "kernelspec": {
   "display_name": "env",
   "language": "python",
   "name": "python3"
  },
  "language_info": {
   "codemirror_mode": {
    "name": "ipython",
    "version": 3
   },
   "file_extension": ".py",
   "mimetype": "text/x-python",
   "name": "python",
   "nbconvert_exporter": "python",
   "pygments_lexer": "ipython3",
   "version": "3.10.11"
  }
 },
 "nbformat": 4,
 "nbformat_minor": 2
}
