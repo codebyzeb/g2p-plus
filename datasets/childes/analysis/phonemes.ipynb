{
 "cells": [
  {
   "cell_type": "markdown",
   "metadata": {},
   "source": [
    "# Phoneme Analysis\n",
    "\n",
    "Comparing phonemes outputted by phonemization to phonemes stored in [phoible](https://phoible.org/). This is used to improve the phonemization by adding folding dictionaries to increase the coherence of the resulting phoneme set for each language."
   ]
  },
  {
   "cell_type": "code",
   "execution_count": 1,
   "metadata": {},
   "outputs": [
    {
     "name": "stderr",
     "output_type": "stream",
     "text": [
      "/var/folders/nz/6tzh0bsj2txd1cz18gpcms_c0000gn/T/ipykernel_50799/3962830865.py:5: DtypeWarning: Columns (4,7,8,11) have mixed types. Specify dtype option on import or set low_memory=False.\n",
      "  phoible = pd.read_csv('../../../data/phoible.csv')\n"
     ]
    }
   ],
   "source": [
    "import pandas as pd\n",
    "\n",
    "from tqdm import tqdm\n",
    "\n",
    "phoible = pd.read_csv('../../../data/phoible.csv')\n",
    "phonemes = phoible.Phoneme.unique()"
   ]
  },
  {
   "cell_type": "code",
   "execution_count": 2,
   "metadata": {},
   "outputs": [],
   "source": [
    "def find_unseen_phonemes(counts, phonemes):\n",
    "    \"\"\" Finds phonemes in counts unknown in the phonemes list, and phonemes in the phonemes list not seen in counts \"\"\"\n",
    "    unseen = set() \n",
    "    unknown = {} \n",
    "    for phoneme in phonemes:\n",
    "        if phoneme not in counts:\n",
    "            unseen.add(phoneme)\n",
    "    for phoneme, count in counts.items():\n",
    "        if phoneme not in phonemes and phoneme != 'WORD_BOUNDARY':\n",
    "            unknown[phoneme] = count\n",
    "    unknown = {k: v for k, v in sorted(unknown.items(), key=lambda item: item[1], reverse=True)}\n",
    "    return unseen, unknown\n",
    "\n",
    "def find_phoneme(csv_file, phoneme, count=1):\n",
    "    \"\"\" Find lines where phoneme appears and also print gloss \"\"\"\n",
    "    dataset = pd.read_csv(csv_file)\n",
    "    phonemized = list(dataset['phonemized_utterance'])\n",
    "    for i, line in enumerate(phonemized):\n",
    "        if phoneme in line:\n",
    "            print(f'Line {i}: {dataset[\"gloss\"][i]} - {line}')\n",
    "            count -= 1\n",
    "        if count == 0:\n",
    "            break\n",
    "\n",
    "def find_words_with_phoneme(csv_file, phoneme, single_phoneme=False):\n",
    "    words_counts = {}\n",
    "    dataset = pd.read_csv(csv_file)\n",
    "    phonemized = list(dataset['phonemized_utterance'])\n",
    "    glosses = list(dataset['gloss'])\n",
    "    for i, line in tqdm(enumerate(phonemized)):\n",
    "        if phoneme in line:\n",
    "            words = glosses[i].split()\n",
    "            phonemic_words = line.split(' WORD_BOUNDARY ')\n",
    "            for j, word in enumerate(phonemic_words):\n",
    "                if (single_phoneme and phoneme in word.split()) or (not single_phoneme and phoneme in word):\n",
    "                    if j >= len(words):\n",
    "                        continue\n",
    "                    entry = words[j] + '/' + word.replace(' WORD_BOUNDARY', '')\n",
    "                    if entry not in words_counts:\n",
    "                        words_counts[entry] = 0\n",
    "                    words_counts[entry] += 1\n",
    "    # Sort by counts\n",
    "    words_counts = {k: v for k, v in sorted(words_counts.items(), key=lambda item: item[1], reverse=True)}\n",
    "    return words_counts\n",
    "\n",
    "def print_unseen_phonemes(unseen, unknown):\n",
    "    print(f'Unknown phonemes: {unknown if unknown else \"None\"}')\n",
    "    print(f'Unseen phonemes: {unseen if unseen else \"None\"}')\n",
    "\n",
    "def compare_phoneme_sets(csv_file, iso_code, language_names, inventory_id=None):\n",
    "    \"\"\" Compares phonemes in the csv file with the phonemes in phoible.\n",
    "    \n",
    "    Four levels of comparison are made:\n",
    "    1. Phonemes in the dataset not seen in any parts of phoible\n",
    "    2. Phonemes in the dataset not seen in any phoible language with a specific language code (e.g. 'eng' for English)\n",
    "    3. Phonemes in the dataset not seen in the specific inventories of phoible that match the language names (e.g. ['American English', 'English (American)'] for English)\n",
    "    4. (Optional) Phonemes in the dataset not seen in a specific inventory of phoible (e.g. '2175' for English (American))\n",
    "    \"\"\"\n",
    "    if not csv_file.endswith('.csv'):\n",
    "        dataset = pd.read_csv('../CHILDES-dataset/'+csv_file+'/train.csv')\n",
    "        dataset = pd.concat([dataset, pd.read_csv('../CHILDES-dataset/'+csv_file+'/valid.csv')])\n",
    "    else:\n",
    "        dataset = pd.read_csv(csv_file)\n",
    "\n",
    "    token_counts = {}\n",
    "    for line in dataset['phonemized_utterance']:\n",
    "        # Our tool combines tone markers with the preceeding vowel, we remove tone markers in our comparison so that we don't get many \"unknown phonemes\" consisting of a known vowel + tone marker.\n",
    "        line = line.replace('˧˥', '').replace('˧˩̰', '').replace('˩˧', '').replace('˨', '').replace('˥', '').replace('˧', '').replace('˧˥', '').replace('˧˩̰', '').replace('˩˧','').replace('˩','').replace('˦','')\n",
    "        tokens = line.strip().split()\n",
    "        for token in tokens:\n",
    "            if token not in token_counts:\n",
    "                token_counts[token] = 0\n",
    "            token_counts[token] += 1\n",
    "\n",
    "    print(f'Total phonemes in the dataset: {sum(token_counts.values())}')\n",
    "    print(f'Unique phonemes: {list(token_counts.keys())}\\n')\n",
    "\n",
    "    _, unknown = find_unseen_phonemes(token_counts, phonemes)\n",
    "    print('-'*100)\n",
    "    print('ALL PHOIBLE:')\n",
    "    print('Comparing the phonemes seen in the data with all phoible phonemes:')\n",
    "    print(f'Unknown phonemes: {unknown if unknown else \"None\"}')\n",
    "\n",
    "\n",
    "    language_phonemes = phoible[phoible.ISO6393 == iso_code].Phoneme.unique()\n",
    "    language_unseen, language_unknown = find_unseen_phonemes(token_counts, language_phonemes)\n",
    "    print('-'*100)\n",
    "    print('LANGUAGE CODE:')\n",
    "    print(f'\\nComparing the phonemes seen in the data with just the phonemes in phoible with the {iso_code} language code:')\n",
    "    print_unseen_phonemes(language_unseen, language_unknown)\n",
    "    \n",
    "    possible_language_names = phoible[phoible.ISO6393 == iso_code].LanguageName.unique()\n",
    "    print(f'\\nPhoible inventories names with the {iso_code} language code: {str(list(possible_language_names))}')\n",
    "\n",
    "    possible_dialects = phoible[phoible.ISO6393 == iso_code].SpecificDialect.unique()\n",
    "    print(f'Phoible dialects names with the {iso_code} language code: {str(list(possible_dialects))}')\n",
    "\n",
    "    print('-'*100)\n",
    "    print('INVENTORIES:')\n",
    "\n",
    "    all_inventory_phonemes = set()\n",
    "    inventory_ids = set()\n",
    "    for inventory in language_names:\n",
    "        dialect_phonemes = phoible[phoible.LanguageName == inventory].Phoneme.unique()\n",
    "        ids = phoible[phoible.LanguageName == inventory].InventoryID.unique()\n",
    "        all_inventory_phonemes.update(dialect_phonemes)\n",
    "        inventory_ids.update(ids)\n",
    "\n",
    "    dialect_unseen, dialect_unknown = find_unseen_phonemes(token_counts, all_inventory_phonemes)\n",
    "    print(f'\\nNow comparing the phonemes seen in the data with the phonemes in phoible with the specific language names {language_names}:')\n",
    "    print(f'Inventory IDs matching the inventory names: {str(inventory_ids)}')\n",
    "    print_unseen_phonemes(dialect_unseen, dialect_unknown)\n",
    "\n",
    "    if inventory_id is not None:\n",
    "        inventory_phonemes = phoible[phoible.InventoryID == inventory_id].Phoneme.unique()\n",
    "        inventory_unseen, inventory_unknown = find_unseen_phonemes(token_counts, inventory_phonemes)\n",
    "        print('-'*100)\n",
    "        print(f'INVENTORY ID:')\n",
    "        print(f'\\nNow comparing the phonemes seen in the data with the phonemes in phoible with the specific inventory {inventory_id}:')\n",
    "        print(f'Phonemes in inventory:', inventory_phonemes)\n",
    "        print_unseen_phonemes(inventory_unseen, inventory_unknown)\n"
   ]
  },
  {
   "cell_type": "markdown",
   "metadata": {},
   "source": [
    "# English (US) Analysis\n",
    "\n",
    "The English section of our corpus is taken from Eng-NA in CHILDES, so we compare to all English languages and more specifically the two American English sections of phoible. For English, we use phonemizer.\n",
    "\n",
    "The output of espeak, adjusted by our folding dictionary, brings the phoneme inventory to be pretty close to the American English phoneme inventories (specifically invenetory 2175) in phoible. The unseen phonemes mostly overlap with the unknown phonemes, with slight altered diacritics.\n",
    "\n",
    "For English, we do not try to match some of the remaining unseen phonemes with the unknown phonemes, as our folding dictionary is based on the phonemizing processed used by [BabySLM](https://github.com/MarvinLvn/BabySLM) and we need to stick to the same transcription process if we want our datasets to match theirs for training and evaluation. "
   ]
  },
  {
   "cell_type": "code",
   "execution_count": 3,
   "metadata": {},
   "outputs": [
    {
     "name": "stdout",
     "output_type": "stream",
     "text": [
      "Total phonemes in the dataset: 40979962\n",
      "Unique phonemes: ['s', 'iː', 'WORD_BOUNDARY', 'ð', 'ɛ', 'ɹ', 'z', 'ʌ', 'f', 'eɪ', 'w', 'ɪ', 'ɡ', 'l', 'æ', 'ɑ', 'h', 'ə', 'ʊ', 'k', 'p', 'uː', 'b', 'i', 't', 'aɪ', 'θ', 'ŋ', 'j', 'ɔ', 'm', 'ɔɪ', 'n', 'd', 'oʊ', 'aʊ', 'v', 'ɜː', 't̠ʃ', 'd̠ʒ', 'ʃ', 'iə', 'ʒ', 'x']\n",
      "\n",
      "----------------------------------------------------------------------------------------------------\n",
      "ALL PHOIBLE:\n",
      "Comparing the phonemes seen in the data with all phoible phonemes:\n",
      "Unknown phonemes: None\n",
      "----------------------------------------------------------------------------------------------------\n",
      "LANGUAGE CODE:\n",
      "\n",
      "Comparing the phonemes seen in the data with just the phonemes in phoible with the eng language code:\n",
      "Unknown phonemes: None\n",
      "Unseen phonemes: {'eə', 'ɛː', 'əʉ', 'a', 'øː', 'əʊ', 'oɪ', 'aː', 'ɚː', 'u', 'ɐʉ', 'æo', 'kx', 'eː', 'ɐ', 'o̞ː', 'ɵː', 'kʰ', 'tʰ', 'ei', 'ɚ', 'iɪ', 'əː', 'iɛ', 'ɘ', 'æɔ', 'e̞', 'ɻ', 'oe', 'ɛʉ', 'ʍ', 'ɒɯ', 'oː', 'ɪə', 'ʊə', 'ɔː', 'æɪ', 'ʉː', 'æe', 'e', 'eɪ̯', 'r', 'ɑe', 'ɒ', 'ts', 'pʰ', 'ɐː', 'ʉə', 'ɑː', 'ɒː', 'ʔ'}\n",
      "\n",
      "Phoible inventories names with the eng language code: ['English', 'English (American)', 'American English', 'English (Australian)', 'English (British)', 'English (New Zealand)']\n",
      "Phoible dialects names with the eng language code: [nan, 'Western and Mid-Western US; Southern California', 'Southeastern Michigan', 'Liverpool', 'Pākehā', 'Tyneside English (spoken in Newcastle)', 'English (RP)', 'English (Liverpool)']\n",
      "----------------------------------------------------------------------------------------------------\n",
      "INVENTORIES:\n",
      "\n",
      "Now comparing the phonemes seen in the data with the phonemes in phoible with the specific language names ['English (American)', 'American English']:\n",
      "Inventory IDs matching the inventory names: {2176, 2175}\n",
      "Unknown phonemes: {'t': 2420245, 'k': 1124034, 'iː': 716997, 'eɪ': 617373, 'p': 554818, 'ɜː': 135468, 'iə': 23682, 'x': 58}\n",
      "Unseen phonemes: {'kʰ', 'ei', 'tʰ', 'ɚː', 'iɪ', 'ɚ', 'pʰ', 'u', 'eɪ̯'}\n",
      "----------------------------------------------------------------------------------------------------\n",
      "INVENTORY ID:\n",
      "\n",
      "Now comparing the phonemes seen in the data with the phonemes in phoible with the specific inventory 2175:\n",
      "Phonemes in inventory: ['b' 'd' 'd̠ʒ' 'f' 'h' 'j' 'kʰ' 'l' 'm' 'n' 'pʰ' 's' 'tʰ' 't̠ʃ' 'v' 'w'\n",
      " 'z' 'ð' 'ŋ' 'ɡ' 'ɹ' 'ʃ' 'ʒ' 'θ' 'aɪ' 'aʊ' 'eɪ̯' 'iɪ' 'oʊ' 'uː' 'æ' 'ɑ'\n",
      " 'ɔɪ' 'ə' 'ɚː' 'ɛ' 'ɪ' 'ʊ' 'ʌ']\n",
      "Unknown phonemes: {'t': 2420245, 'k': 1124034, 'iː': 716997, 'eɪ': 617373, 'p': 554818, 'ɔ': 523337, 'i': 382684, 'ɜː': 135468, 'iə': 23682, 'x': 58}\n",
      "Unseen phonemes: {'kʰ', 'pʰ', 'tʰ', 'ɚː', 'iɪ', 'eɪ̯'}\n"
     ]
    }
   ],
   "source": [
    "compare_phoneme_sets('Eng-NA', 'eng', ['English (American)', 'American English'], 2175)"
   ]
  },
  {
   "cell_type": "markdown",
   "metadata": {},
   "source": [
    "# English (UK) Analysis\n",
    "\n",
    "The English section of our corpus is taken from Eng-UK in CHILDES, so we compare to all English languages and more specifically the British English sections of phoible. We use the `en-gb` espeak accent which uses RP, so we compare to inventory 2252 (English RP). Note that much of the data comes from areas of the UK that do not use RP. \n",
    "\n",
    "With a few adjustments in our folding dictionary, we get a pretty good match to inventory 2252. There are just two extra vowels that the phonemizer outputs (`i`, and `ɐ`) as well as syllabic `n̩`. The rest of the unknown phonemes are sufficiently rare."
   ]
  },
  {
   "cell_type": "code",
   "execution_count": 4,
   "metadata": {},
   "outputs": [
    {
     "name": "stdout",
     "output_type": "stream",
     "text": [
      "Total phonemes in the dataset: 28737383\n",
      "Unique phonemes: ['eɪ', 't̠ʃ', 'WORD_BOUNDARY', 'w', 'ɒ', 'tʰ', 'd', 'ʌ', 'z', 'ð', 'æ', 'm', 'iː', 'n', 'aɪ', 'h', 'e', 'kʰ', 's', 'ɪ', 'ɡ', 'ʊ', 'ə', 'ɑː', 'ɔː', 'l', 'ɹ', 'i', 'əʊ', 'uː', 'j', 'ɪə', 'ɔɪ', 'v', 'f', 'ɜː', 'b', 'pʰ', 'd̠ʒ', 'ɐ', 'eə', 'ʃ', 'θ', 'ŋ', 'aʊ', 'ʊə', 'n̩', 'ʒ', 'ɔːɹ', 'x']\n",
      "\n",
      "----------------------------------------------------------------------------------------------------\n",
      "ALL PHOIBLE:\n",
      "Comparing the phonemes seen in the data with all phoible phonemes:\n",
      "Unknown phonemes: {'ɔːɹ': 2}\n",
      "----------------------------------------------------------------------------------------------------\n",
      "LANGUAGE CODE:\n",
      "\n",
      "Comparing the phonemes seen in the data with just the phonemes in phoible with the eng language code:\n",
      "Unknown phonemes: {'n̩': 3290, 'ɔːɹ': 2}\n",
      "Unseen phonemes: {'ɛː', 'əʉ', 'a', 'øː', 'oɪ', 'aː', 'ɚː', 'k', 'u', 'ɐʉ', 'æo', 'kx', 'eː', 'oʊ', 'ɔ', 'o̞ː', 'ɵː', 't', 'ei', 'ɚ', 'iɛ', 'iɪ', 'əː', 'ɘ', 'æɔ', 'e̞', 'ɻ', 'oe', 'ɛʉ', 'ʍ', 'ɒɯ', 'oː', 'p', 'æɪ', 'ʉː', 'æe', 'ɑ', 'eɪ̯', 'r', 'ɑe', 'iə', 'ɛ', 'ts', 'ɐː', 'ʉə', 'ɒː', 'ʔ'}\n",
      "\n",
      "Phoible inventories names with the eng language code: ['English', 'English (American)', 'American English', 'English (Australian)', 'English (British)', 'English (New Zealand)']\n",
      "Phoible dialects names with the eng language code: [nan, 'Western and Mid-Western US; Southern California', 'Southeastern Michigan', 'Liverpool', 'Pākehā', 'Tyneside English (spoken in Newcastle)', 'English (RP)', 'English (Liverpool)']\n",
      "----------------------------------------------------------------------------------------------------\n",
      "INVENTORIES:\n",
      "\n",
      "Now comparing the phonemes seen in the data with the phonemes in phoible with the specific language names ['English (British)', 'English']:\n",
      "Inventory IDs matching the inventory names: {160, 2178, 2180, 2252, 2515}\n",
      "Unknown phonemes: {'i': 278330, 'n̩': 3290, 'ɔːɹ': 2}\n",
      "Unseen phonemes: {'ɛː', 'a', 'øː', 'aː', 'k', 'eː', 'ɔ', 'o̞ː', 'iɛ', 't', 'əː', 'e̞', 'ɻ', 'ɛʉ', 'ʍ', 'oː', 'p', 'ʉː', 'r', 'ɛ', 'ɒː', 'ʔ'}\n",
      "----------------------------------------------------------------------------------------------------\n",
      "INVENTORY ID:\n",
      "\n",
      "Now comparing the phonemes seen in the data with the phonemes in phoible with the specific inventory 2252:\n",
      "Phonemes in inventory: ['b' 'd' 'd̠ʒ' 'f' 'h' 'j' 'kʰ' 'l' 'm' 'n' 'pʰ' 's' 'tʰ' 't̠ʃ' 'v' 'w'\n",
      " 'z' 'ð' 'ŋ' 'ɡ' 'ɹ' 'ʃ' 'ʒ' 'θ' 'aɪ' 'aʊ' 'e' 'eə' 'eɪ' 'iː' 'uː' 'æ'\n",
      " 'ɑː' 'ɒ' 'ɔɪ' 'ɔː' 'ə' 'əʊ' 'ɜː' 'ɪ' 'ɪə' 'ʊ' 'ʊə' 'ʌ']\n",
      "Unknown phonemes: {'i': 278330, 'ɐ': 263753, 'n̩': 3290, 'x': 6, 'ɔːɹ': 2}\n",
      "Unseen phonemes: None\n"
     ]
    }
   ],
   "source": [
    "compare_phoneme_sets('Eng-UK', 'eng', ['English (British)', 'English'], 2252)"
   ]
  },
  {
   "cell_type": "markdown",
   "metadata": {},
   "source": [
    "# German Analysis\n",
    "\n",
    "We compare all German inventories in phoible to our German dataset. For German, we use the epitran backend.\n",
    "\n",
    "With our folding dictionary, we are close to inventory 2398. \n",
    "\n",
    "The phoneme `ʒ` is unseen and the unknown phonemes `x` and `ɐ` are missing from inventory 2398 but exist in other german inventories. The rest are sufficiently rare.\n"
   ]
  },
  {
   "cell_type": "code",
   "execution_count": 5,
   "metadata": {},
   "outputs": [
    {
     "name": "stdout",
     "output_type": "stream",
     "text": [
      "Total phonemes in the dataset: 27267742\n",
      "Unique phonemes: ['aː', 'WORD_BOUNDaRY', 'oː', 'a', 'b', 'x', 'v', 'øː', 'n', 'ɛː', 'f', 'l', 'iː', 'yː', 'j', 'uː', 'h', 'ʊ', 'm', 'ɔ', 'ɪ', 'eː', 'ə', 'd̺', 't̺ʰ', 'ɛ', 'ŋ', 'ç', 'œ', 'kʰ', 'ʀ', 'ɡ', 'pʰ', 'ʏ', 's', 'z', 'ts', 'ʃ', 'ɐ', 'pf', 't̠ʃ', 'd̠ʒ']\n",
      "\n",
      "----------------------------------------------------------------------------------------------------\n",
      "ALL PHOIBLE:\n",
      "Comparing the phonemes seen in the data with all phoible phonemes:\n",
      "Unknown phonemes: {'WORD_BOUNDaRY': 5825166}\n",
      "----------------------------------------------------------------------------------------------------\n",
      "LANGUAGE CODE:\n",
      "\n",
      "Comparing the phonemes seen in the data with just the phonemes in phoible with the deu language code:\n",
      "Unknown phonemes: {'WORD_BOUNDaRY': 5825166}\n",
      "Unseen phonemes: {'ʏː', 'e', 'ɔi', 'd', 'ʒ', 'au', 'p', 'tʰ', 't', 'ai', 'ɔɪ', 'k', 'aɪ', 'ʁ', 'ʔ', 'aʊ', 'y'}\n",
      "\n",
      "Phoible inventories names with the deu language code: ['German', 'GERMAN']\n",
      "Phoible dialects names with the deu language code: [nan, 'German (Standard)']\n",
      "----------------------------------------------------------------------------------------------------\n",
      "INVENTORIES:\n",
      "\n",
      "Now comparing the phonemes seen in the data with the phonemes in phoible with the specific language names ['German', 'GERMAN']:\n",
      "Inventory IDs matching the inventory names: {2184, 161, 304, 2398}\n",
      "Unknown phonemes: {'WORD_BOUNDaRY': 5825166}\n",
      "Unseen phonemes: {'ʏː', 'ɔi', 'd', 'ʒ', 'au', 'p', 'tʰ', 't', 'ai', 'ɔɪ', 'k', 'aɪ', 'ʔ', 'ʁ', 'e', 'aʊ', 'y'}\n",
      "----------------------------------------------------------------------------------------------------\n",
      "INVENTORY ID:\n",
      "\n",
      "Now comparing the phonemes seen in the data with the phonemes in phoible with the specific inventory 2398:\n",
      "Phonemes in inventory: ['b' 'd̠ʒ' 'd̺' 'f' 'h' 'j' 'kʰ' 'l' 'm' 'n' 'pf' 'pʰ' 's' 'ts' 't̠ʃ'\n",
      " 't̺ʰ' 'v' 'z' 'ç' 'ŋ' 'ɡ' 'ʀ' 'ʃ' 'ʒ' 'a' 'aː' 'eː' 'iː' 'oː' 'uː' 'yː'\n",
      " 'øː' 'œ' 'ɔ' 'ə' 'ɛ' 'ɛː' 'ɪ' 'ʊ' 'ʏ']\n",
      "Unknown phonemes: {'WORD_BOUNDaRY': 5825166, 'x': 350087, 'ɐ': 3941}\n",
      "Unseen phonemes: {'ʒ'}\n"
     ]
    }
   ],
   "source": [
    "compare_phoneme_sets('German', 'deu', ['German','GERMAN'], 2398)"
   ]
  },
  {
   "cell_type": "markdown",
   "metadata": {},
   "source": [
    "# Japanese Analysis\n",
    "\n",
    "We compare all Japanese inventories in phoible to our Japanese dataset. For Japanese, we use phonemizer.\n",
    "\n",
    "The three phoible Japanese inventories do not seem to accurately reflect the Wikipedia page on Japanese phonology, but we get close to inventory 2196. There are few unseen phonemes `ɴ` and `u`. Since phonemizer uses a segments backend, we do not output `ɴ` in the correct contexts, but it is a rather infrequent phoneme. `ɯː` might be being output instead of `u`. \n",
    "\n",
    "There are many unseen phonemes, many of which are valid phonemes according to the Wikipedia entry and appear in some of the other inventories. \n",
    "\n"
   ]
  },
  {
   "cell_type": "code",
   "execution_count": 6,
   "metadata": {},
   "outputs": [
    {
     "name": "stdout",
     "output_type": "stream",
     "text": [
      "Total phonemes in the dataset: 14956403\n",
      "Unique phonemes: ['o', 'ts', 'ɯ', 'k', 'a', 'i', 'WORD_BOUNDARY', 'w', 'd̠ʒ', 't', 'e', 'n', 'ʃ', 'd', 'b', 'aː', 's', 'm', 'h', 'ɾ', 't̠ʃ', 'ɯː', 'p', 'j', 'ɡʲ', 'ɸ', 'ɡ', 'oː', 'ɲ', 'z', 'eː', 'pʲ', 'ç', 'ɾʲ', 'kʲ', 'bʲ', 'mʲ']\n",
      "\n",
      "----------------------------------------------------------------------------------------------------\n",
      "ALL PHOIBLE:\n",
      "Comparing the phonemes seen in the data with all phoible phonemes:\n",
      "Unknown phonemes: None\n",
      "----------------------------------------------------------------------------------------------------\n",
      "LANGUAGE CODE:\n",
      "\n",
      "Comparing the phonemes seen in the data with just the phonemes in phoible with the jpn language code:\n",
      "Unknown phonemes: {'oː': 223829, 'eː': 35711, 'ɸ': 31401, 'kʲ': 16378, 'ɲ': 9056, 'ɾʲ': 3774, 'ɡʲ': 3266, 'ç': 1978, 'pʲ': 1629, 'bʲ': 1482, 'mʲ': 220}\n",
      "Unseen phonemes: {'tː', 'ɛː', 's̪', 'kː', 'u', 'd̠', 'ŋ', '˧', 'iː', 'ɔ', '˥', 'd̪', 't̪', 'n̪', 'ɯ̃', 'tsː', 'çː', 'pː', 'ɔː', 'ɴ', 'sː', 'ɛ', 'z̪', 'ʃː', 'ʔ', 't̠ʃː'}\n",
      "\n",
      "Phoible inventories names with the jpn language code: ['Japanese', 'JAPANESE']\n",
      "Phoible dialects names with the jpn language code: [nan, 'Japanese (Tokyo or other areas with similar pitch accent systems)']\n",
      "----------------------------------------------------------------------------------------------------\n",
      "INVENTORIES:\n",
      "\n",
      "Now comparing the phonemes seen in the data with the phonemes in phoible with the specific language names ['Japanese', 'JAPANESE']:\n",
      "Inventory IDs matching the inventory names: {384, 2196, 197}\n",
      "Unknown phonemes: {'oː': 223829, 'eː': 35711, 'ɸ': 31401, 'kʲ': 16378, 'ɲ': 9056, 'ɾʲ': 3774, 'ɡʲ': 3266, 'ç': 1978, 'pʲ': 1629, 'bʲ': 1482, 'mʲ': 220}\n",
      "Unseen phonemes: {'tː', 'ɛː', 's̪', 'kː', 'u', 'd̠', 'ŋ', '˧', 'iː', 'ɔ', '˥', 'd̪', 't̪', 'n̪', 'ɯ̃', 'tsː', 'çː', 'pː', 'ɔː', 'ɴ', 'sː', 'ɛ', 'z̪', 'ʃː', 'ʔ', 't̠ʃː'}\n",
      "----------------------------------------------------------------------------------------------------\n",
      "INVENTORY ID:\n",
      "\n",
      "Now comparing the phonemes seen in the data with the phonemes in phoible with the specific inventory 2196:\n",
      "Phonemes in inventory: ['b' 'd' 'd̠' 'h' 'j' 'k' 'm' 'n' 'p' 's' 't' 'ts' 'w' 'z' 'ɡ' 'ɴ' 'a' 'e'\n",
      " 'i' 'o' 'u']\n",
      "Unknown phonemes: {'ɯ': 668430, 'ɾ': 513746, 't̠ʃ': 235255, 'oː': 223829, 'ʃ': 205359, 'aː': 93643, 'd̠ʒ': 92940, 'ɯː': 59887, 'eː': 35711, 'ɸ': 31401, 'kʲ': 16378, 'ɲ': 9056, 'ɾʲ': 3774, 'ɡʲ': 3266, 'ç': 1978, 'pʲ': 1629, 'bʲ': 1482, 'mʲ': 220}\n",
      "Unseen phonemes: {'u', 'd̠', 'ɴ'}\n"
     ]
    }
   ],
   "source": [
    "compare_phoneme_sets('Japanese', 'jpn', ['Japanese', 'JAPANESE'], 2196)"
   ]
  },
  {
   "cell_type": "markdown",
   "metadata": {},
   "source": [
    "# Indonesian Analysis\n",
    "\n",
    "We compare all Indonesian inventories in phoible to our Indonesian dataset. For Indonesian, we use the epitran backend. With minimal folding, we are close to inventory 1690.\n",
    "\n",
    "The only unknown phoneme is `j`, which appears in the other Indonesian inventory. There are a few unseen phonemes, `e`, `ʔ`, `ɛ`, `v` and `y`. Three of these are not listed in the other inventory.\n",
    "\n"
   ]
  },
  {
   "cell_type": "code",
   "execution_count": 7,
   "metadata": {},
   "outputs": [
    {
     "name": "stdout",
     "output_type": "stream",
     "text": [
      "Total phonemes in the dataset: 11718625\n",
      "Unique phonemes: ['n', 'i', 'h', 'WORD_BOUNDARY', 'l', 'o', 't', 'm', 'a', 'w', 's', 'd̠ʒ', 'ŋ', 'ə', 'd', 'p', 'ɡ', 'b', 'u', 'r', 'k', 'ɲ', 'j', 't̠ʃ', 'f', 'z', 'ʃ', 'x']\n",
      "\n",
      "----------------------------------------------------------------------------------------------------\n",
      "ALL PHOIBLE:\n",
      "Comparing the phonemes seen in the data with all phoible phonemes:\n",
      "Unknown phonemes: None\n",
      "----------------------------------------------------------------------------------------------------\n",
      "LANGUAGE CODE:\n",
      "\n",
      "Comparing the phonemes seen in the data with just the phonemes in phoible with the ind language code:\n",
      "Unknown phonemes: None\n",
      "Unseen phonemes: {'ɛ', 't̪', 'ai̯', 'oi̯', 'ʔ', 'v', 'e', 'y', 'au̯'}\n",
      "\n",
      "Phoible inventories names with the ind language code: ['Indonesian']\n",
      "Phoible dialects names with the ind language code: ['Central Java', 'Standard']\n",
      "----------------------------------------------------------------------------------------------------\n",
      "INVENTORIES:\n",
      "\n",
      "Now comparing the phonemes seen in the data with the phonemes in phoible with the specific language names ['Indonesian']:\n",
      "Inventory IDs matching the inventory names: {1144, 1690}\n",
      "Unknown phonemes: None\n",
      "Unseen phonemes: {'ɛ', 't̪', 'ai̯', 'oi̯', 'ʔ', 'v', 'e', 'y', 'au̯'}\n",
      "----------------------------------------------------------------------------------------------------\n",
      "INVENTORY ID:\n",
      "\n",
      "Now comparing the phonemes seen in the data with the phonemes in phoible with the specific inventory 1690:\n",
      "Phonemes in inventory: ['b' 'd' 'd̠ʒ' 'f' 'h' 'k' 'l' 'm' 'n' 'p' 'r' 's' 't' 't̠ʃ' 'v' 'w' 'x'\n",
      " 'z' 'ŋ' 'ɡ' 'ɲ' 'ʃ' 'ʔ' 'a' 'e' 'i' 'o' 'u' 'y' 'ə' 'ɛ']\n",
      "Unknown phonemes: {'j': 194687}\n",
      "Unseen phonemes: {'ɛ', 'ʔ', 'v', 'e', 'y'}\n"
     ]
    }
   ],
   "source": [
    "compare_phoneme_sets('Indonesian', 'ind', ['Indonesian'], 1690)"
   ]
  },
  {
   "cell_type": "markdown",
   "metadata": {},
   "source": [
    "# French Analysis\n",
    "\n",
    "We compare all French inventories in phoible to our French dataset. For French, we use phonemizer.\n",
    "\n",
    "We find a few unknown phonemes, all very infrequent and most are valid allophones according to the French inventory:\n",
    "* `yː` is an allophone of `y`\n",
    "* `aː` is an allophone of `a̟`\n",
    "* `iː` is an allophone of `i`\n",
    "\n",
    "The remaining two phonemes `t̠ʃ` and `d̠ʒ` seem to come from loan words such as `sandwhich` and `jazz` so seem acceptable to keep. \n",
    "\n",
    "Comparing to the specific inventory ID `2266` there is only one unseen phoneme, `ɥ` and the unknown phonemes are either those mentioned above, rare, or contained in one of the other French inventories (such as `œ̃`)."
   ]
  },
  {
   "cell_type": "code",
   "execution_count": 8,
   "metadata": {},
   "outputs": [
    {
     "name": "stdout",
     "output_type": "stream",
     "text": [
      "Total phonemes in the dataset: 11176967\n",
      "Unique phonemes: ['d', 'ɔ', 'n', 'WORD_BOUNDARY', 'b', 'a', 'm', 'ɑ̃', 'ʁ', 'ə', 'ɡ', 'ʒ', 'i', 'v', 't', 'k', 'o', 'ɛ̃', 'w', 'y', 'j', 'e', 'ɔ̃', 'p', 'ɛ', 'f', 's', 'z', 'l', 'u', 'ʃ', 'œ', 'ø', 'ɲ', 't̠ʃ', 'd̠ʒ', 'ŋ']\n",
      "\n",
      "----------------------------------------------------------------------------------------------------\n",
      "ALL PHOIBLE:\n",
      "Comparing the phonemes seen in the data with all phoible phonemes:\n",
      "Unknown phonemes: None\n",
      "----------------------------------------------------------------------------------------------------\n",
      "LANGUAGE CODE:\n",
      "\n",
      "Comparing the phonemes seen in the data with just the phonemes in phoible with the fra language code:\n",
      "Unknown phonemes: {'t̠ʃ': 48, 'd̠ʒ': 11}\n",
      "Unseen phonemes: {'ɛː', 's̪', 'ʀ', 'æ̃', 'ø̞', 'k̟', 'ɡ̟', 'ɦ', 'œ̃', 'd̪', 't̪', 'n̪', 'a̟', 'ɥ', 'oː', 'õ', 'ɑ', 'r', 'ɒ̃', 'ɒ', 'z̪', 'l̪'}\n",
      "\n",
      "Phoible inventories names with the fra language code: ['French', 'FRENCH']\n",
      "Phoible dialects names with the fra language code: [nan, 'French (Parisian speaker)']\n",
      "----------------------------------------------------------------------------------------------------\n",
      "INVENTORIES:\n",
      "\n",
      "Now comparing the phonemes seen in the data with the phonemes in phoible with the specific language names ['French', 'FRENCH']:\n",
      "Inventory IDs matching the inventory names: {162, 331, 2269, 2182}\n",
      "Unknown phonemes: {'t̠ʃ': 48, 'd̠ʒ': 11}\n",
      "Unseen phonemes: {'ɛː', 's̪', 'ʀ', 'æ̃', 'ø̞', 'k̟', 'ɡ̟', 'ɦ', 'œ̃', 'd̪', 't̪', 'n̪', 'a̟', 'ɥ', 'oː', 'õ', 'ɑ', 'r', 'ɒ̃', 'ɒ', 'z̪', 'l̪'}\n",
      "----------------------------------------------------------------------------------------------------\n",
      "INVENTORY ID:\n",
      "\n",
      "Now comparing the phonemes seen in the data with the phonemes in phoible with the specific inventory 2269:\n",
      "Phonemes in inventory: ['b' 'd' 'f' 'j' 'k' 'l' 'm' 'n' 'p' 's' 't' 'v' 'w' 'z' 'ɡ' 'ɥ' 'ɲ' 'ʁ'\n",
      " 'ʃ' 'ʒ' 'a' 'e' 'i' 'o' 'u' 'y' 'ø' 'œ' 'ɑ̃' 'ɔ' 'ɔ̃' 'ə' 'ɛ' 'ɛ̃']\n",
      "Unknown phonemes: {'t̠ʃ': 48, 'd̠ʒ': 11, 'ŋ': 6}\n",
      "Unseen phonemes: {'ɥ'}\n"
     ]
    }
   ],
   "source": [
    "compare_phoneme_sets('French', 'fra', ['French', 'FRENCH'], 2269)"
   ]
  },
  {
   "cell_type": "markdown",
   "metadata": {},
   "source": [
    "# Spanish Analysis\n",
    "\n",
    "We compare all Spanish inventories in phoible to our Spanish dataset. For Spanish, we use epitran.\n",
    "\n",
    "With our folding dictionary, we get close to inventory 164. The unseen phonemes `θ` and `ʎ` do not always appear in Spanish phonology, depending on accent. `ʝ` is unknown but typically replaces `ʎ` in certain accents. `d` and `g` are unseen for this inventory but are listed in others. `ʃ` is unknown but mostly comes from english loan words. The remaining unknown phonemes are sufficiently rare. \n"
   ]
  },
  {
   "cell_type": "code",
   "execution_count": 9,
   "metadata": {},
   "outputs": [
    {
     "name": "stdout",
     "output_type": "stream",
     "text": [
      "Total phonemes in the dataset: 9926542\n",
      "Unique phonemes: ['i', 'ɾ', 'e̞', 'n', 'WORD_BOUNDARY', 'k', 'a', 'ɲ', 'o̞', 'm', 's', 'u', 'p', 'd', 'l', 't', 'β', 'ɡ', 'w', 'ʝ', 'f', 'x', 'j', 'r', 't̠ʃ', 'ʃ', 'tl', 'ts']\n",
      "\n",
      "----------------------------------------------------------------------------------------------------\n",
      "ALL PHOIBLE:\n",
      "Comparing the phonemes seen in the data with all phoible phonemes:\n",
      "Unknown phonemes: None\n",
      "----------------------------------------------------------------------------------------------------\n",
      "LANGUAGE CODE:\n",
      "\n",
      "Comparing the phonemes seen in the data with just the phonemes in phoible with the spa language code:\n",
      "Unknown phonemes: {'d': 234418, 'ʝ': 46455, 'tl': 139, 'ts': 90}\n",
      "Unseen phonemes: {'θ', 'u̯æi', 's̪', 'ð͉', 'i̯e', 'i̯a', 'ue', 'u̯a', 'ai̯', 'i̯o', 'i̯', 'i̯ɔ', 'eu̯', 'oi', 'i̯ɛ', 'ɔ', 'æ', 'au', 'ɣ', 'uei̯', 'ai', 'ei', 't̪', 'd̪', 'd̻', 'u̯ɛi', 'ua', 'n̪', 't̻', 'ɟʝ', 'ou̯', 'ui', 'χ', 'æi', 'ɟ', 'ð', 'b', 'ei̯', 'ɔi', 'ia', 'o', 'i̯æi', 'ie', 's̺̠', 'ʎ', 'e', 'i̯æ', 'ɛi', 'ä', 'i̯ɛi', 'ɛ', 'ᴅ', 'oi̯', 'u̯o', 'io', 'iu', 'l̪', 'u̯', 'au̯'}\n",
      "\n",
      "Phoible inventories names with the spa language code: ['Spanish', 'SPANISH']\n",
      "Phoible dialects names with the spa language code: [nan, 'Castilian Spanish', 'Spanish (Murcian)', 'Spanish (Castilian)']\n",
      "----------------------------------------------------------------------------------------------------\n",
      "INVENTORIES:\n",
      "\n",
      "Now comparing the phonemes seen in the data with the phonemes in phoible with the specific language names ['Spanish', 'SPANISH']:\n",
      "Inventory IDs matching the inventory names: {2210, 164, 2308, 553, 2303}\n",
      "Unknown phonemes: {'d': 234418, 'ʝ': 46455, 'tl': 139, 'ts': 90}\n",
      "Unseen phonemes: {'θ', 'u̯æi', 's̪', 'ð͉', 'i̯e', 'i̯a', 'ue', 'u̯a', 'l̪', 'ai̯', 'i̯o', 'i̯', 'i̯ɔ', 'oi', 'eu̯', 'ɔ', 'i̯ɛ', 'æ', 'au', 'ɣ', 'uei̯', 'ei', 'ai', 't̪', 'χ', 'd̻', 'u̯ɛi', 'd̪', 'n̪', 'ua', 'ɟʝ', 'ui', 't̻', 'ou̯', 'æi', 'ɟ', 'b', 'ð', 'ɔi', 'ei̯', 'ia', 'o', 'i̯æi', 'ie', 's̺̠', 'ʎ', 'ɛi', 'i̯æ', 'ä', 'e', 'i̯ɛi', 'ɛ', 'ᴅ', 'oi̯', 'io', 'iu', 'u̯o', 'u̯', 'au̯'}\n",
      "----------------------------------------------------------------------------------------------------\n",
      "INVENTORY ID:\n",
      "\n",
      "Now comparing the phonemes seen in the data with the phonemes in phoible with the specific inventory 164:\n",
      "Phonemes in inventory: ['f' 'j' 'k' 'l' 'm' 'n' 'p' 'r' 's' 't' 't̠ʃ' 'w' 'x' 'ð͉' 'ɣ' 'ɲ' 'ɾ'\n",
      " 'ʎ' 'β' 'θ' 'a' 'e̞' 'i' 'o̞' 'u']\n",
      "Unknown phonemes: {'d': 234418, 'ɡ': 78867, 'ʝ': 46455, 'ʃ': 407, 'tl': 139, 'ts': 90}\n",
      "Unseen phonemes: {'ð͉', 'ɣ', 'ʎ', 'θ'}\n"
     ]
    }
   ],
   "source": [
    "compare_phoneme_sets('Spanish', 'spa', ['Spanish', 'SPANISH'], 164)"
   ]
  },
  {
   "cell_type": "markdown",
   "metadata": {},
   "source": [
    "# Mandarin Analysis\n",
    "\n",
    "We compare all Mandarin inventories in phoible to our Mandarin dataset. For Mandarin, we use pinyin_to_ipa.\n",
    "\n",
    "There are four Mandarin inventories in Phoible, \"Mandarin Chinese\", \"Standard Chinese; Mandarin\", \"MANDARIN\" and \"Standard Chinese\". There is considerable disagreement between these.\n",
    "\n",
    "Our output seems to mostly align with the inventory code 2457 (Beijing Standard Chinese) with the help of a few folding rules to mach diacritics used by the inventory (e.g. `au` instead of `au̯`).\n",
    "\n",
    "Note that our tool (and pinyin_to_ipa) combines tone markers with the preceeding vowel, which is not how phoible lists tone markers. We remove tone markers in our comparison so that we don't get many \"unknown phonemes\" consisting of a known vowel + tone marker.\n",
    "\n",
    "There are a few key unknown phonemes:\n",
    "* `o`, `ɛ`, `ʊ`, `e`, `ɔ`: these are vowels not listed in the inventory but are typically used in transcriptions as allophones of typical Mandarin phonemes. pinyin_to_ipa seems to favour a slihgly more phonetic realisation of vowels.\n",
    "* `ɻ̩` and `ɻ`: listed in other sources as a valid consonant (and syllabic consonant) in Mandarin but not present in this inventory\n",
    "* `ɥ`: a glide used along with `j` and `w` in certain analyses of Mandarin, this inventory seems to prefer to write these as diphthongs (see below). \n",
    "* `ɚ`: the rhotic coda present in the Beijing dialect for a few words but not listed in this inventory. \n",
    "\n",
    "The unseen tokens consist of:\n",
    "* `ɹ̺`: It is unclear why this is not produced\n",
    "* `ua`, `iau`, `iu`, `uei`, `ye`, `uo`, `uai`, `ie`, `uə`, `ia`, `iou`: dipthongs resulting from the alternative analysis of glides where `j`, `ɥ` and `w` are not analysed as independent phonemes but instead as allophones of the high vowels `i`, `y` and `u`. Although this intepretation may be more common, we stick to the output of pinyin_to_ipa rather than try to correct this. "
   ]
  },
  {
   "cell_type": "code",
   "execution_count": 10,
   "metadata": {},
   "outputs": [
    {
     "name": "stdout",
     "output_type": "stream",
     "text": [
      "Total phonemes in the dataset: 8870431\n",
      "Unique phonemes: ['a', 'u', 'WORD_BOUNDARY', 'au', 'n', 'ʃ̺', 'ɻ̩', 'ə', 'm', 'ɤ', 'p', 'j', 'e', 'kʰ', 'k', 'w', 'o', 't̠ʃ̺ʰ', 'ŋ', 't', 'ʊ', 'ɕ', 'i', 'l', 'x', 'ei', 'pʰ', 'ai', 'ou', 'tɕ', 'ts', 't̠ʃ̺', 's', 'ɹ̪̩', 'tɕʰ', 'ɛ', 'f', 'y', 'ɻ', 'tʰ', 'ɥ', 'ɔ', 'tsʰ', 'ɚ']\n",
      "\n",
      "----------------------------------------------------------------------------------------------------\n",
      "ALL PHOIBLE:\n",
      "Comparing the phonemes seen in the data with all phoible phonemes:\n",
      "Unknown phonemes: None\n",
      "----------------------------------------------------------------------------------------------------\n",
      "LANGUAGE CODE:\n",
      "\n",
      "Comparing the phonemes seen in the data with just the phonemes in phoible with the cmn language code:\n",
      "Unknown phonemes: {'o': 144716, 'ɻ̩': 138241, 'ɛ': 79987, 'ʊ': 53095, 'e': 45152, 'ɻ': 37888, 'ɔ': 12193, 'ɚ': 5432}\n",
      "Unseen phonemes: {'t̪s̪ʰ|tsʰ', 'w˞', 'cç', 'ɤ˞', 'ʈʂʰ', '˧˦', 'iou', 'ə̃˞', 'l̪|l', '˧˥', 'ɰ', '˧˨˥', '˦˨', 'ə˞', 'ʂ', 't̪|t', 'ɹ', 'cçʰ', 'uei', 'ʐ', '˦', '˥', 'χ', 'ɹ̺', 'ua', 'ɑ̃˞', 'uai', 'u˞', 'ia', 'uə', 'ɤ̟', 'iau', 'ie', 's̪|s', 't̪ʰ|tʰ', 'a˞', 'ʈʂ', 'ç', 'ye', 'uo', '˧˨˧', 't̠ʃ', 'a̟˞', 'iu', 't̪s̪|ts', '˥˦'}\n",
      "\n",
      "Phoible inventories names with the cmn language code: ['Mandarin Chinese', 'MANDARIN', 'Standard Chinese; Mandarin', 'Standard Chinese']\n",
      "Phoible dialects names with the cmn language code: [nan, 'Beijing', 'Standard Chinese (Beijing)']\n",
      "----------------------------------------------------------------------------------------------------\n",
      "INVENTORIES:\n",
      "\n",
      "Now comparing the phonemes seen in the data with the phonemes in phoible with the specific language names ['Standard Chinese; Mandarin', 'Mandarin Chinese']:\n",
      "Inventory IDs matching the inventory names: {16, 1047}\n",
      "Unknown phonemes: {'t̠ʃ̺': 152141, 'o': 144716, 'ɻ̩': 138241, 'ɛ': 79987, 'ʊ': 53095, 'e': 45152, 'ɹ̪̩': 40306, 'ɻ': 37888, 'ɔ': 12193, 'ɚ': 5432}\n",
      "Unseen phonemes: {'˧˦', 'cç', 'w˞', 'ʈʂʰ', 'ɤ˞', 'iou', 'ə̃˞', '˧˥', 'ɰ', '˧˨˥', '˦˨', 'ə˞', 'ʂ', 'ɹ', 'cçʰ', 'uei', '˦', 'ʐ', '˥', 'χ', 'ua', 'ɑ̃˞', 'uai', 'u˞', 'ia', 'uə', 'iau', 'ie', 'a˞', 'ʈʂ', 'ç', 'ye', 'uo', '˧˨˧', 't̠ʃ', 'a̟˞', 'iu', '˥˦'}\n",
      "----------------------------------------------------------------------------------------------------\n",
      "INVENTORY ID:\n",
      "\n",
      "Now comparing the phonemes seen in the data with the phonemes in phoible with the specific inventory 2457:\n",
      "Phonemes in inventory: ['f' 'j' 'k' 'kʰ' 'l' 'm' 'n' 'p' 'pʰ' 's' 't' 'ts' 'tsʰ' 'tɕ' 'tɕʰ' 'tʰ'\n",
      " 't̠ʃ̺' 't̠ʃ̺ʰ' 'w' 'x' 'ŋ' 'ɕ' 'ɹ̪̩' 'ɹ̺' 'ʃ̺' 'a' 'ai' 'au' 'ei' 'i'\n",
      " 'ia' 'iau' 'ie' 'iou' 'iu' 'ou' 'u' 'ua' 'uai' 'uei' 'uo' 'uə' 'y' 'ye'\n",
      " 'ə' 'ɤ']\n",
      "Unknown phonemes: {'o': 144716, 'ɻ̩': 138241, 'ɛ': 79987, 'ʊ': 53095, 'e': 45152, 'ɻ': 37888, 'ɥ': 16756, 'ɔ': 12193, 'ɚ': 5432}\n",
      "Unseen phonemes: {'uei', 'iou', 'ia', 'ye', 'uo', 'uə', 'ɹ̺', 'ie', 'iau', 'ua', 'iu', 'uai'}\n"
     ]
    }
   ],
   "source": [
    "compare_phoneme_sets('Mandarin', 'cmn', ['Standard Chinese; Mandarin', 'Mandarin Chinese'], 2457)"
   ]
  },
  {
   "cell_type": "markdown",
   "metadata": {},
   "source": [
    "# Dutch Analysis\n",
    "\n",
    "We compare all Dutch inventories in phoible to our Dutch dataset. For Dutch, we use phonemizer.\n",
    "\n",
    "With our folding map, we get close to inventory 2405, although there are a few major differences.\n",
    "\n",
    "The inventory lists `χ` as unseen, but instead we produce `ɣ` and `x` which are listed on Wikipedia. The inventory also lists `ɔ̃`, `ɛ̃`, `œː` and `ã` as missing. There are also many unknown phonemes. Many are rare, the others are mostly listed on Wikipedia or in other inventories."
   ]
  },
  {
   "cell_type": "code",
   "execution_count": 11,
   "metadata": {},
   "outputs": [
    {
     "name": "stdout",
     "output_type": "stream",
     "text": [
      "Total phonemes in the dataset: 6261977\n",
      "Unique phonemes: ['j', 'ãː', 'WORD_BOUNDARY', 'ɦ', 'oː', 'ɾ', 'd', 'i', 'ɛ', 'p', 'ɪ', 'k', 'ɑ', 'l', 'ɛː', 'n', 's', 'v', 'ə', 'ɛi', 'ʋ', 'z', 't', 'm', 'ɣ', 'ʏ', 'ɔ', 'x', 'u', 'f', 'ŋ', 'øː', 'b', 'ɔː', 'ʌu', 'y', 'œy', 'tʲ', 'w', 'ʃ', 't̠ʃ', 'ɲ', 'ʒ', 'iː', 'ɡ', 'd̠ʒ', 'ã', 'uː', 'yː']\n",
      "\n",
      "----------------------------------------------------------------------------------------------------\n",
      "ALL PHOIBLE:\n",
      "Comparing the phonemes seen in the data with all phoible phonemes:\n",
      "Unknown phonemes: None\n",
      "----------------------------------------------------------------------------------------------------\n",
      "LANGUAGE CODE:\n",
      "\n",
      "Comparing the phonemes seen in the data with just the phonemes in phoible with the nld language code:\n",
      "Unknown phonemes: {'ãː': 228246, 't̠ʃ': 261}\n",
      "Unseen phonemes: {'eə', 'eɪ', 'pʲ', 'a', 'əʊ', 'ʀ', 'aː', 'ø', 'ɔuː', 'ɑu', 'ɑ̃ː', 'c̠', 'oə', 'ɑuː', 'ɛi̯', 'eː', 'kʲ', 'h', 'c', 'æ̃ː', 'uɪ', 'æ', '˦', 'øy', 'ɛə', 'ei', 'χ', '˨', 'ʊ', 'ɟ', 'yːə', 'ɲ̠', 'ɞʊ', 'uːə', 'œ̃ː', 'ɪə', 'œyː', 'o', 'uə', 'øə', 'ɔɪ', 'aɪ', 'ɔu', 'ɛ̃', 'ɔ̃ː', 'ou', 'œʏ', 'ʎ', 'r', 'aʊ', 'iə', 'β̞', 'œː', 'æː', 'iːə', 'oːə', 'yə', 'ɔːə', 'ɒ', 'ɛɪ', 'œ', 'øɪ', 'ɑː', 'ɒː', 'ɔ̃', 'ɛiː', 'ʔ', 'ʀʁ'}\n",
      "\n",
      "Phoible inventories names with the nld language code: ['Dutch']\n",
      "Phoible dialects names with the nld language code: ['Belgian Standard', 'Belgian Standard Dutch', 'the dialect of Hasselt (belongs to the West-Limburgian dialect group)', 'the dialect of Maastricht (south-eastern dialect group; Central Limburgian)', 'the Dutch dialect of Weert (West-Limburgian), rural variety (not Stadsweerts)', 'the Belgian Limburg dialect of Hamont (belongs to the West Limburg dialects, subclassification: Dommellands)', 'the Flemish-Brabant dialect of Orsmaal-gussenhoven', nan]\n",
      "----------------------------------------------------------------------------------------------------\n",
      "INVENTORIES:\n",
      "\n",
      "Now comparing the phonemes seen in the data with the phonemes in phoible with the specific language names ['Dutch']:\n",
      "Inventory IDs matching the inventory names: {2405, 2170, 2169, 1050, 2171, 2172, 2173, 2174}\n",
      "Unknown phonemes: {'ãː': 228246, 't̠ʃ': 261}\n",
      "Unseen phonemes: {'eə', 'eɪ', 'pʲ', 'a', 'əʊ', 'ʀ', 'aː', 'ɔuː', 'ø', 'ɑu', 'ɑ̃ː', 'oə', 'c̠', 'ɑuː', 'ɛi̯', 'eː', 'kʲ', 'h', 'c', 'æ̃ː', '˦', 'æ', 'uɪ', 'øy', 'ɛə', 'ei', 'χ', '˨', 'ʊ', 'yːə', 'ɟ', 'ɲ̠', 'ɞʊ', 'uːə', 'œ̃ː', 'ɪə', 'œyː', 'o', 'uə', 'øə', 'ɔɪ', 'ɛ̃', 'ɔu', 'aɪ', 'ɔ̃ː', 'œʏ', 'ou', 'ʎ', 'r', 'aʊ', 'iə', 'β̞', 'ɔːə', 'iːə', 'œː', 'æː', 'yə', 'oːə', 'ɒ', 'ɛɪ', 'œ', 'øɪ', 'ɒː', 'ɑː', 'ɔ̃', 'ɛiː', 'ʔ', 'ʀʁ'}\n",
      "----------------------------------------------------------------------------------------------------\n",
      "INVENTORY ID:\n",
      "\n",
      "Now comparing the phonemes seen in the data with the phonemes in phoible with the specific inventory 2405:\n",
      "Phonemes in inventory: ['b' 'd' 'f' 'j' 'k' 'l' 'm' 'n' 'p' 's' 't' 'v' 'z' 'ŋ' 'ɦ' 'ɾ' 'ʋ' 'χ'\n",
      " 'aː' 'ã' 'eː' 'i' 'iː' 'oː' 'u' 'uː' 'y' 'yː' 'øː' 'œy' 'œː' 'ɑ' 'ɔ'\n",
      " 'ɔː' 'ɔ̃' 'ə' 'ɛ' 'ɛi' 'ɛː' 'ɛ̃' 'ɪ' 'ʌu' 'ʏ']\n",
      "Unknown phonemes: {'ãː': 228246, 'ɣ': 78765, 'x': 63665, 'tʲ': 20024, 'ʃ': 2391, 'w': 1673, 'ʒ': 587, 'ɲ': 290, 't̠ʃ': 261, 'ɡ': 123, 'd̠ʒ': 94}\n",
      "Unseen phonemes: {'œː', 'aː', 'χ', 'ɛ̃', 'ɔ̃', 'eː'}\n"
     ]
    }
   ],
   "source": [
    "compare_phoneme_sets('Dutch', 'nld', ['Dutch'], 2405)"
   ]
  },
  {
   "cell_type": "markdown",
   "metadata": {},
   "source": [
    "# Serbian Analysis\n",
    "\n",
    "We compare the Serbian inventory in phoible to our Serbian dataset. For Serbian, we use epitran. \n",
    "\n",
    "With our folding dictionary, we get close to inventory 2499 (the only inventory for Serbian).\n",
    "\n",
    "The unseen phonemes are mostly long vowels, which epitran fails to produce (**this might be an issue**).\n",
    "\n",
    "The unknown phoneme `j` seems to be missing from phoible and is a common phoneme in Serbian, according to wikipedia. The remaining unknown phonemes are rare and come from english loan words that have been badly transcribed.\n"
   ]
  },
  {
   "cell_type": "code",
   "execution_count": 12,
   "metadata": {},
   "outputs": [
    {
     "name": "stdout",
     "output_type": "stream",
     "text": [
      "Total phonemes in the dataset: 4893937\n",
      "Unique phonemes: ['d̪̻', 'ä', 'WORD_BOUNDARY', 'i', 'j', 'm', 's̪̻', 'l', 'n', 'e̞', 'ʋ', 'r', 'o̞', 't̪̻', 'k', 't̪̻s̪̻', 'p', 'u', 'ʃ̺', 'x', 'b', 'ʒ̺', 'ɡ', 't̻ʃ̻', 'f', 'z̪̻', 'ɲ', 'ʎ', 'd̻ʒ̻', 'y', 'w']\n",
      "\n",
      "----------------------------------------------------------------------------------------------------\n",
      "ALL PHOIBLE:\n",
      "Comparing the phonemes seen in the data with all phoible phonemes:\n",
      "Unknown phonemes: None\n",
      "----------------------------------------------------------------------------------------------------\n",
      "LANGUAGE CODE:\n",
      "\n",
      "Comparing the phonemes seen in the data with just the phonemes in phoible with the srp language code:\n",
      "Unknown phonemes: {'j': 179606, 'w': 50, 'y': 46}\n",
      "Unseen phonemes: {'t̺ʃ̺ʷ', 'o̞ː', 'äː', 'uː', 'e̞ː', 'd̺̠ʒ̺ʷ', 'iː'}\n",
      "\n",
      "Phoible inventories names with the srp language code: ['Serbian']\n",
      "Phoible dialects names with the srp language code: ['Serbian (Standard Ekavian)']\n",
      "----------------------------------------------------------------------------------------------------\n",
      "INVENTORIES:\n",
      "\n",
      "Now comparing the phonemes seen in the data with the phonemes in phoible with the specific language names ['Serbian']:\n",
      "Inventory IDs matching the inventory names: {2499}\n",
      "Unknown phonemes: {'j': 179606, 'w': 50, 'y': 46}\n",
      "Unseen phonemes: {'t̺ʃ̺ʷ', 'o̞ː', 'äː', 'uː', 'e̞ː', 'd̺̠ʒ̺ʷ', 'iː'}\n",
      "----------------------------------------------------------------------------------------------------\n",
      "INVENTORY ID:\n",
      "\n",
      "Now comparing the phonemes seen in the data with the phonemes in phoible with the specific inventory 2499:\n",
      "Phonemes in inventory: ['b' 'd̪̻' 'd̺̠ʒ̺ʷ' 'd̻ʒ̻' 'f' 'k' 'l' 'm' 'n' 'p' 'r' 's̪̻' 't̪̻'\n",
      " 't̪̻s̪̻' 't̺ʃ̺ʷ' 't̻ʃ̻' 'x' 'z̪̻' 'ɡ' 'ɲ' 'ʃ̺' 'ʋ' 'ʎ' 'ʒ̺' 'ä' 'äː'\n",
      " 'e̞' 'e̞ː' 'i' 'iː' 'o̞' 'o̞ː' 'u' 'uː']\n",
      "Unknown phonemes: {'j': 179606, 'w': 50, 'y': 46}\n",
      "Unseen phonemes: {'t̺ʃ̺ʷ', 'o̞ː', 'äː', 'uː', 'e̞ː', 'd̺̠ʒ̺ʷ', 'iː'}\n"
     ]
    }
   ],
   "source": [
    "compare_phoneme_sets('Serbian', 'srp', ['Serbian'], 2499)"
   ]
  },
  {
   "cell_type": "markdown",
   "metadata": {},
   "source": [
    "# Estonian Analysis\n",
    "\n",
    "We compare all Estonian inventories in phoible to our Estonian dataset. For Estonian, we use phonemizer.\n",
    "\n",
    "To create our folding dictionary, we compare our output with phoible inventory 2181 and Wikipedia. Many changes were required in the folding dictionary, due to repeated letters for long vowels and consonants being produced by phonemizer.\n",
    "\n",
    "In the end, we have quite a bit of disagreement between our output and phoible inventory 2181 since the inventory lists semi-long consontants (which phonemizer does not output) and our tool outputs many consonants, long vowels and diphthongs that are not listed in the phoible inventory (but seem to be valid according to Wikipedia).\n",
    "\n",
    "Generally, we get a pretty good match with the Wikipedia entry for Estonian phonology, except for the fact that we do not output many diphthongs, instead many vowels are listed independently (e.g. `e o` instead of `eo`). We could add rules to join these vowels but it is not clear if these should always be diphthongs, so we leave them. \n",
    "\n",
    "However, looking at individual examples, the output is not always very good (e.g. initial `b` being output as `p` or `i` randomly being added after some other vowels). The espeak-ng voice might not be very good for this language.\n"
   ]
  },
  {
   "cell_type": "code",
   "execution_count": 13,
   "metadata": {},
   "outputs": [
    {
     "name": "stdout",
     "output_type": "stream",
     "text": [
      "Total phonemes in the dataset: 4272417\n",
      "Unique phonemes: ['n', 'o', 'WORD_BOUNDARY', 'm', 'i', 's', 'a', 'æ', 'r', 'p', 'l', 'e', 'd', 'iː', 't', 'ʃ', 'kː', 'v', 'æi', 'pː', 'u', 'k', 'h', 'mː', 'eː', 'sː', 'ɑ', 'yː', 'uː', 'ɛ', 'æː', 'j', 'ɡ', 'b', 'aː', 'sʲ', 'ɪ', 'ɤ', 'ɔ', 'ɤː', 'ʊ', 'lː', 'ø', 'øː', 'tː', 'ŋ', 'y', 'tʲ', 'oː', 'rː', 'ɲ', 'nː', 'w', 'tʲː', 'øɪ̯', 'f', 'dʲ', 'sʲː', 't̠ʃ', 'ʃː', 'ʒ', 'z', 'fː', 'dː', 'yi', 'jː']\n",
      "\n",
      "----------------------------------------------------------------------------------------------------\n",
      "ALL PHOIBLE:\n",
      "Comparing the phonemes seen in the data with all phoible phonemes:\n",
      "Unknown phonemes: None\n",
      "----------------------------------------------------------------------------------------------------\n",
      "LANGUAGE CODE:\n",
      "\n",
      "Comparing the phonemes seen in the data with just the phonemes in phoible with the ekk language code:\n",
      "Unknown phonemes: {'a': 356082, 'd': 106993, 'iː': 88836, 'ɡ': 53705, 'aː': 52949, 'eː': 48995, 'ɛ': 48895, 'b': 37424, 'ɪ': 25300, 'ʊ': 20865, 'oː': 19038, 'ŋ': 16024, 'uː': 14393, 'ɲ': 13173, 'æi': 9485, 'æː': 7676, 'yː': 7318, 'øː': 4718, 'dʲ': 3251, 'w': 3245, 'ɔ': 1321, 'ɤː': 991, 'ʒ': 126, 'øɪ̯': 85, 'z': 68, 'dː': 63, 't̠ʃ': 13, 'yi': 13, 'jː': 1}\n",
      "Unseen phonemes: {'s̪', 'nʲ', 'nˑ', 'mˑ', 'sʲˑ', 'lʲ', 'ʃˑ', 't̪', 'tˑ', 'nʲˑ', 'tʲˑ', 'fˑ', 'lˑ', 'kˑ', 'nʲː', 'rˑ', 'lʲˑ', 'ʋ', 'sˑ', 'pˑ', 'lʲː'}\n",
      "\n",
      "Phoible inventories names with the ekk language code: ['Estonian']\n",
      "Phoible dialects names with the ekk language code: ['Standard Estonian (Central Estonia)', 'Estonian (Standard)']\n",
      "----------------------------------------------------------------------------------------------------\n",
      "INVENTORIES:\n",
      "\n",
      "Now comparing the phonemes seen in the data with the phonemes in phoible with the specific language names ['Estonian']:\n",
      "Inventory IDs matching the inventory names: {2248, 2181}\n",
      "Unknown phonemes: {'a': 356082, 'd': 106993, 'iː': 88836, 'ɡ': 53705, 'aː': 52949, 'eː': 48995, 'ɛ': 48895, 'b': 37424, 'ɪ': 25300, 'ʊ': 20865, 'oː': 19038, 'ŋ': 16024, 'uː': 14393, 'ɲ': 13173, 'æi': 9485, 'æː': 7676, 'yː': 7318, 'øː': 4718, 'dʲ': 3251, 'w': 3245, 'ɔ': 1321, 'ɤː': 991, 'ʒ': 126, 'øɪ̯': 85, 'z': 68, 'dː': 63, 't̠ʃ': 13, 'yi': 13, 'jː': 1}\n",
      "Unseen phonemes: {'s̪', 'nʲ', 'nˑ', 'mˑ', 'sʲˑ', 'lʲ', 'ʃˑ', 't̪', 'tˑ', 'nʲˑ', 'tʲˑ', 'fˑ', 'lˑ', 'kˑ', 'nʲː', 'rˑ', 'lʲˑ', 'ʋ', 'sˑ', 'pˑ', 'lʲː'}\n",
      "----------------------------------------------------------------------------------------------------\n",
      "INVENTORY ID:\n",
      "\n",
      "Now comparing the phonemes seen in the data with the phonemes in phoible with the specific inventory 2181:\n",
      "Phonemes in inventory: ['f' 'fː' 'fˑ' 'h' 'j' 'k' 'kː' 'kˑ' 'l' 'lʲ' 'lʲː' 'lʲˑ' 'lː' 'lˑ' 'm'\n",
      " 'mː' 'mˑ' 'n' 'nʲ' 'nʲː' 'nʲˑ' 'nː' 'nˑ' 'p' 'pː' 'pˑ' 'r' 'rː' 'rˑ' 's'\n",
      " 'sʲ' 'sʲː' 'sʲˑ' 'sː' 'sˑ' 't' 'tʲ' 'tʲː' 'tʲˑ' 'tː' 'tˑ' 'v' 'ʃ' 'ʃː'\n",
      " 'ʃˑ' 'e' 'i' 'o' 'u' 'y' 'æ' 'ø' 'ɑ' 'ɤ']\n",
      "Unknown phonemes: {'a': 356082, 'd': 106993, 'iː': 88836, 'ɡ': 53705, 'aː': 52949, 'eː': 48995, 'ɛ': 48895, 'b': 37424, 'ɪ': 25300, 'ʊ': 20865, 'oː': 19038, 'ŋ': 16024, 'uː': 14393, 'ɲ': 13173, 'æi': 9485, 'æː': 7676, 'yː': 7318, 'øː': 4718, 'dʲ': 3251, 'w': 3245, 'ɔ': 1321, 'ɤː': 991, 'ʒ': 126, 'øɪ̯': 85, 'z': 68, 'dː': 63, 't̠ʃ': 13, 'yi': 13, 'jː': 1}\n",
      "Unseen phonemes: {'lʲ', 'mˑ', 'nʲ', 'fˑ', 'sˑ', 'ʃˑ', 'tˑ', 'lˑ', 'kˑ', 'nʲː', 'pˑ', 'rˑ', 'lʲː', 'nˑ', 'nʲˑ', 'lʲˑ', 'sʲˑ', 'tʲˑ'}\n"
     ]
    }
   ],
   "source": [
    "compare_phoneme_sets('Estonian', 'ekk', ['Estonian'], 2181)"
   ]
  },
  {
   "cell_type": "markdown",
   "metadata": {},
   "source": [
    "# Cantonese Analysis\n",
    "\n",
    "We compare all Cantonese inventories in phoible to our Cantonese dataset. For Cantonese, we use pingyam.\n",
    "\n",
    "There are four Cantonese inventories in Phoible, \"Chinese\", \"Cantonese\", \"TAISHAN\" and \"Yue Chinese\". \n",
    "\n",
    "Our output closely aligns with inventory 2166. The only unknown phoneme is syllabic m (`m̩`) and the only unseen phonemes are `kʷʰ`, `r`, `kʷ` and `β`."
   ]
  },
  {
   "cell_type": "code",
   "execution_count": 14,
   "metadata": {},
   "outputs": [
    {
     "name": "stdout",
     "output_type": "stream",
     "text": [
      "Total phonemes in the dataset: 2642768\n",
      "Unique phonemes: ['a̞', 'WORD_BOUNDARY', 't', 'ɐ', 'k', 'l', 'j', 'ʊ̟', 'ɛ', 'n', 'ei', 'w', 'ɐi', 'm̩', 'm', 'ou', 'i', 'ts', 'ɔ̽', 'tʰ', 'f', 'aːĭ', 'p', 'h', 'ɵy', 'u', 'ŋ', 's', 'ɔːĭ', 'ɐu', 'ɪ̞', 'iːŭ', 'ɵ', 'tsʰ', 'kʰ', 'aːŭ', 'pʰ', 'y', 'œ̞', 'uːĭ']\n",
      "\n",
      "----------------------------------------------------------------------------------------------------\n",
      "ALL PHOIBLE:\n",
      "Comparing the phonemes seen in the data with all phoible phonemes:\n",
      "Unknown phonemes: None\n",
      "----------------------------------------------------------------------------------------------------\n",
      "LANGUAGE CODE:\n",
      "\n",
      "Comparing the phonemes seen in the data with just the phonemes in phoible with the yue language code:\n",
      "Unknown phonemes: None\n",
      "Unseen phonemes: {'ʃ', 'a', 'l̪|l', 't̠ʃʰ', '˧˥', 'kʷʰ', '˧', 't̪|t', 'ŋ̩', 'n̪|n', 'ɛu', 'ɔ', 'l̥', 'æ', '˦', 'au', 'ai', '˥', 'ui', 'ɪ', '˨', 'ʊ', 'ɔi', 'β', '˧˩', 't̪ʰ|tʰ', 'r', 'l̪̥|l̥', 'kʷ', '˩˧', '˧˩̰', 't̠ʃ', 'œ', 'iu', '˥˦', '˩'}\n",
      "\n",
      "Phoible inventories names with the yue language code: ['Cantonese', 'TAISHAN', 'Chinese', 'Yue Chinese']\n",
      "Phoible dialects names with the yue language code: [nan, 'Hong Kong Cantonese', 'Yue Chinese (Hong Kong Cantonese)']\n",
      "----------------------------------------------------------------------------------------------------\n",
      "INVENTORIES:\n",
      "\n",
      "Now comparing the phonemes seen in the data with the phonemes in phoible with the specific language names ['Cantonese', 'TAISHAN', 'Yue Chinese', 'Chinese']:\n",
      "Inventory IDs matching the inventory names: {642, 19, 2309, 2166}\n",
      "Unknown phonemes: None\n",
      "Unseen phonemes: {'ʃ', 'a', 'l̪|l', 't̠ʃʰ', '˧˥', 'kʷʰ', '˧', 't̪|t', 'ŋ̩', 'n̪|n', 'ɛu', 'ɔ', 'l̥', 'æ', 'au', '˦', 'ai', '˥', 'ui', 'ɪ', 'ʊ', '˨', 'ɔi', 'β', '˧˩', 't̪ʰ|tʰ', 'r', 'l̪̥|l̥', 'kʷ', '˩˧', '˧˩̰', 't̠ʃ', 'œ', 'iu', '˥˦', '˩'}\n",
      "----------------------------------------------------------------------------------------------------\n",
      "INVENTORY ID:\n",
      "\n",
      "Now comparing the phonemes seen in the data with the phonemes in phoible with the specific inventory 2166:\n",
      "Phonemes in inventory: ['f' 'h' 'j' 'k' 'kʰ' 'kʷ' 'kʷʰ' 'l' 'm' 'n' 'p' 'pʰ' 'r' 's' 't' 'ts'\n",
      " 'tsʰ' 'tʰ' 'w' 'ŋ' 'β' '˦' '˧' '˧˥' '˧˩' '˨' '˩˧' 'aːĭ' 'aːŭ' 'a̞' 'ei'\n",
      " 'i' 'iːŭ' 'ou' 'u' 'uːĭ' 'y' 'œ̞' 'ɐ' 'ɐi' 'ɐu' 'ɔːĭ' 'ɔ̽' 'ɛ' 'ɪ̞'\n",
      " 'ɵ' 'ɵy' 'ʊ̟']\n",
      "Unknown phonemes: {'m̩': 37746}\n",
      "Unseen phonemes: {'˦', 'β', 'kʷ', '˩˧', '˧˥', '˧˩', 'kʷʰ', '˧', 'r', '˨'}\n"
     ]
    }
   ],
   "source": [
    "compare_phoneme_sets('Cantonese', 'yue', ['Cantonese', 'TAISHAN', 'Yue Chinese', 'Chinese'], 2166)"
   ]
  },
  {
   "cell_type": "markdown",
   "metadata": {},
   "source": [
    "# Polish analysis\n",
    "\n",
    "We compare the two Polish inventories in phoible to our Polish dataset. For Polish, we use phonemizer. \n",
    "\n",
    "With some mapping, we get close to inventory 1046. \n",
    "\n",
    "The phoneme `d̪z̪` does not seem to be produced by phonemizer, but the other two unseen phonemes `c` and `ɟ` are not listed on Wikipedia so it seems ok to miss these.\n",
    "\n",
    "The phonemes are tool produces that are not in the inventory (\"unknown phonemes\" below) are the consonants `t, d, ɡʲ, kʲ, xʲ` which are valid according to Wikipedia, as well as the vowel, `ẽ` which is listed in the other phoible set.\n"
   ]
  },
  {
   "cell_type": "markdown",
   "metadata": {},
   "source": [
    "# "
   ]
  },
  {
   "cell_type": "code",
   "execution_count": 15,
   "metadata": {},
   "outputs": [
    {
     "name": "stdout",
     "output_type": "stream",
     "text": [
      "Total phonemes in the dataset: 5404638\n",
      "Unique phonemes: ['v', 'o', 'w', 'a', 'j', 'WORD_BOUNDARY', 'b', 'r', 'ɲ', 'i', 'ɕ', 'u', 'e', 'x', 'tɕ', 't̪', 'k', 'p', 'l̪', 'ɨ', 'dʑ', 'd̪', 'z̪', 'n̪', 'f', 'ʑ', 'm', 'z̻', 's̻', 't̻s̻', 't̪s̪', 'ɡ', 's̪', 'ŋ', 'kʲ', 't', 'ɡʲ', 'ẽ', 'ɣ', 'd̻z̻']\n",
      "\n",
      "----------------------------------------------------------------------------------------------------\n",
      "ALL PHOIBLE:\n",
      "Comparing the phonemes seen in the data with all phoible phonemes:\n",
      "Unknown phonemes: None\n",
      "----------------------------------------------------------------------------------------------------\n",
      "LANGUAGE CODE:\n",
      "\n",
      "Comparing the phonemes seen in the data with just the phonemes in phoible with the pol language code:\n",
      "Unknown phonemes: {'kʲ': 13194, 'ɡʲ': 3505, 'ẽ': 1430, 'ɣ': 1201, 't': 332}\n",
      "Unseen phonemes: {'c', 'ĩ̯', 'ũ̯', 'ä', 'ɔ', 'ʂ̻', 'ɛ', 'd̪z̪', 'ʐ̻', 'ɖ̻ʐ̻', 'ʈ̻ʂ̻', 'ɘ̟', 'ɟ'}\n",
      "\n",
      "Phoible inventories names with the pol language code: ['Polish']\n",
      "Phoible dialects names with the pol language code: [nan, 'Polish (Standard)']\n",
      "----------------------------------------------------------------------------------------------------\n",
      "INVENTORIES:\n",
      "\n",
      "Now comparing the phonemes seen in the data with the phonemes in phoible with the specific language names ['Polish']:\n",
      "Inventory IDs matching the inventory names: {2604, 1046}\n",
      "Unknown phonemes: {'kʲ': 13194, 'ɡʲ': 3505, 'ẽ': 1430, 'ɣ': 1201, 't': 332}\n",
      "Unseen phonemes: {'c', 'ĩ̯', 'ɔ', 'ũ̯', 'ä', 'ʂ̻', 'ɛ', 'd̪z̪', 'ʐ̻', 'ɖ̻ʐ̻', 'ʈ̻ʂ̻', 'ɘ̟', 'ɟ'}\n",
      "----------------------------------------------------------------------------------------------------\n",
      "INVENTORY ID:\n",
      "\n",
      "Now comparing the phonemes seen in the data with the phonemes in phoible with the specific inventory 1046:\n",
      "Phonemes in inventory: ['b' 'c' 'dʑ' 'd̪' 'd̪z̪' 'd̻z̻' 'f' 'j' 'k' 'l̪' 'm' 'n̪' 'p' 'r' 's̪'\n",
      " 's̻' 'tɕ' 't̪' 't̪s̪' 't̻s̻' 'v' 'w' 'x' 'z̪' 'z̻' 'ŋ' 'ɕ' 'ɟ' 'ɡ' 'ɲ'\n",
      " 'ʑ' 'a' 'e' 'i' 'o' 'u' 'ɨ']\n",
      "Unknown phonemes: {'kʲ': 13194, 'ɡʲ': 3505, 'ẽ': 1430, 'ɣ': 1201, 't': 332}\n",
      "Unseen phonemes: {'c', 'd̪z̪', 'ɟ'}\n"
     ]
    }
   ],
   "source": [
    "compare_phoneme_sets('Polish', 'pol', ['Polish'], 1046)"
   ]
  },
  {
   "cell_type": "markdown",
   "metadata": {},
   "source": [
    "# Swedish analysis\n",
    "\n",
    "We compare the two Swedish inventories in phoible to our Swedish dataset. For Swedish, we use phonemizer.\n",
    "\n",
    "With our folding map, we get close to inventory 1150.\n",
    "\n",
    "There are no unseen phonemes from the inventory and only a few unknown phonemes (`e, ʂ, ʃ, ɵː, z`) which are either rare or are listed as valid phonemes for Swedish on Wikipedia."
   ]
  },
  {
   "cell_type": "code",
   "execution_count": 16,
   "metadata": {},
   "outputs": [
    {
     "name": "stdout",
     "output_type": "stream",
     "text": [
      "Total phonemes in the dataset: 2364143\n",
      "Unique phonemes: ['ɔ', 'ʝ', 'WORD_BOUNDARY', 'k', 'l', 'ɛ', 'm', 'd̪', 'e', 'ʉ̟', 'f', 'ɪ', 'ŋ', 'ɹ', 'a', 'n̪', 'iː', 'ɑː', 'ɛː', 't̪', 's̪', 'v', 'oː', 'uː', 'eː', 'ʊ', 'p', 'b', 'h', 'øː', 'yː', 'ʂ', 'ɡ', 'ɵ', 'ʃ', 'œ', 'ɕ', 'ʏ', 'ɧ', 'z']\n",
      "\n",
      "----------------------------------------------------------------------------------------------------\n",
      "ALL PHOIBLE:\n",
      "Comparing the phonemes seen in the data with all phoible phonemes:\n",
      "Unknown phonemes: None\n",
      "----------------------------------------------------------------------------------------------------\n",
      "LANGUAGE CODE:\n",
      "\n",
      "Comparing the phonemes seen in the data with just the phonemes in phoible with the swe language code:\n",
      "Unknown phonemes: {'e': 32302, 'ʂ': 1304, 'ʃ': 1133, 'z': 13}\n",
      "Unseen phonemes: {'kʰ', 'pʰ', 't̪ʰ', 'ʉ̟ː', 'l̪'}\n",
      "\n",
      "Phoible inventories names with the swe language code: ['Swedish']\n",
      "Phoible dialects names with the swe language code: ['Stockholm', 'Swedish (Central)']\n",
      "----------------------------------------------------------------------------------------------------\n",
      "INVENTORIES:\n",
      "\n",
      "Now comparing the phonemes seen in the data with the phonemes in phoible with the specific language names ['Swedish']:\n",
      "Inventory IDs matching the inventory names: {2554, 1150}\n",
      "Unknown phonemes: {'e': 32302, 'ʂ': 1304, 'ʃ': 1133, 'z': 13}\n",
      "Unseen phonemes: {'kʰ', 'pʰ', 'l̪', 'ʉ̟ː', 't̪ʰ'}\n",
      "----------------------------------------------------------------------------------------------------\n",
      "INVENTORY ID:\n",
      "\n",
      "Now comparing the phonemes seen in the data with the phonemes in phoible with the specific inventory 1150:\n",
      "Phonemes in inventory: ['b' 'd̪' 'f' 'h' 'k' 'l' 'm' 'n̪' 'p' 's̪' 't̪' 'v' 'ŋ' 'ɕ' 'ɡ' 'ɧ' 'ɹ'\n",
      " 'ʝ' 'a' 'eː' 'iː' 'oː' 'uː' 'yː' 'øː' 'œ' 'ɑː' 'ɔ' 'ɛ' 'ɛː' 'ɪ' 'ɵ' 'ʉ̟'\n",
      " 'ʊ' 'ʏ']\n",
      "Unknown phonemes: {'e': 32302, 'ʂ': 1304, 'ʃ': 1133, 'z': 13}\n",
      "Unseen phonemes: None\n"
     ]
    }
   ],
   "source": [
    "compare_phoneme_sets('Swedish', 'swe', ['Swedish'], 1150)"
   ]
  },
  {
   "cell_type": "markdown",
   "metadata": {},
   "source": [
    "# Portuguese (portugal) analysis\n",
    "\n",
    "We compare the Portuguese inventories in phoible to our Portuguese dataset. For Portuguese, we use phonemizer.\n",
    "\n",
    "We need a substantial folding map, but by correcting the output we get very close to inventory 1150. However, this does require some items in the folding dictionary that do not simply change the symbol used for a particular phoneme, some other decisions also needed to be made.\n",
    "\n",
    "With these decisions, all that remains is one rare unknown phonemes used for \"pizza\"."
   ]
  },
  {
   "cell_type": "code",
   "execution_count": 17,
   "metadata": {},
   "outputs": [
    {
     "name": "stdout",
     "output_type": "stream",
     "text": [
      "Total phonemes in the dataset: 2037930\n",
      "Unique phonemes: ['p', 'a', 'ɐ', 'WORD_BOUNDARY', 'ɔ', 'l̪ˠ', 'i', 'n̪', 'e', 'ʃ', 'f', 'ɾ', 'ɐ̃', 'd̪', 'm', 'ʒ', 'b', 'ɯ', 'ɛ', 'ɐ̃i', 'ʁ', 't̪', 's', 'o', 'ɐ̃u̜', 'ũ', 'ɡ', 'u', 'k', 'z', 'au̜', 'ai', 'eu̜', 'ɐi', 'ɲ', 'ɛu̜', 'ĩ', 'ũi', 'õ', 'ɔi', 'õi', 'ẽ', 'v', 'oi', 'ʎ', 'iu̜', 'ui', 'ɛi', 'ts']\n",
      "\n",
      "----------------------------------------------------------------------------------------------------\n",
      "ALL PHOIBLE:\n",
      "Comparing the phonemes seen in the data with all phoible phonemes:\n",
      "Unknown phonemes: None\n",
      "----------------------------------------------------------------------------------------------------\n",
      "LANGUAGE CODE:\n",
      "\n",
      "Comparing the phonemes seen in the data with just the phonemes in phoible with the por language code:\n",
      "Unknown phonemes: {'ts': 55}\n",
      "Unseen phonemes: {'w', 'ĕ', 'ŭ', 'iʊ̯', 'ɐ̃ɪ̯̃', 's̪', 's̻', 'ẽɪ̯̃', 'oʊ̯', 'ŋ', 'i̯', 'x', 'l', 'ĩ̯', 'ɛʊ̯', 'ɔɪ̯', 'ə', 'ɣ', 'z̻', 'aɪ̯', 'u̯', 'ũɪ̯̃', 'ɔʊ̯', 'n', 'ũ̯', 'aʊ̯', 'ɯ̽', 'oɪ̯', 'õɪ̯̃', 'ɐ̃ʊ̯̃', 'uɪ̯', 'r', 'eɪ̯', 'ä', 'eʊ̯', 'ʊ̯ɐ̃', 'ɫ', 'ĭ', 'uʊ̯', 'j', 'z̪', 'ʊ̯aɪ̯', 'ɛɪ̯', 'ɱ', 'ã̈'}\n",
      "\n",
      "Phoible inventories names with the por language code: ['Portuguese', 'Portuguese (European)', 'Portuguese (Brazilian)']\n",
      "Phoible dialects names with the por language code: [nan, 'Lisbon', 'São Paulo', 'Portuguese (Estremenho)']\n",
      "----------------------------------------------------------------------------------------------------\n",
      "INVENTORIES:\n",
      "\n",
      "Now comparing the phonemes seen in the data with the phonemes in phoible with the specific language names ['Portuguese', 'Portuguese (European)']:\n",
      "Inventory IDs matching the inventory names: {163, 2206, 2623}\n",
      "Unknown phonemes: {'ts': 55}\n",
      "Unseen phonemes: {'w', 'ĕ', 'ŭ', 's̻', 'ŋ', 'i̯', 'x', 'l', 'ĩ̯', 'ə', 'z̻', 'ɱ', 'n', 'ũ̯', 'ɯ̽', 'ä', 'ɫ', 'ĭ', 'j', 'z̪', 'u̯', 'ã̈'}\n",
      "----------------------------------------------------------------------------------------------------\n",
      "INVENTORY ID:\n",
      "\n",
      "Now comparing the phonemes seen in the data with the phonemes in phoible with the specific inventory 2206:\n",
      "Phonemes in inventory: ['b' 'd̪' 'f' 'k' 'l̪ˠ' 'm' 'n̪' 'p' 's' 't̪' 'v' 'z' 'ɡ' 'ɲ' 'ɾ' 'ʁ' 'ʃ'\n",
      " 'ʎ' 'ʒ' 'a' 'ai' 'au̜' 'e' 'eu̜' 'ẽ' 'i' 'iu̜' 'ĩ' 'o' 'oi' 'õ' 'õi'\n",
      " 'u' 'ui' 'ũ' 'ũi' 'ɐ' 'ɐi' 'ɐ̃' 'ɐ̃i' 'ɐ̃u̜' 'ɔ' 'ɔi' 'ɛ' 'ɛi' 'ɛu̜'\n",
      " 'ɯ']\n",
      "Unknown phonemes: {'ts': 55}\n",
      "Unseen phonemes: None\n"
     ]
    }
   ],
   "source": [
    "compare_phoneme_sets('PortuguesePt', 'por', ['Portuguese', 'Portuguese (European)'], 2206)"
   ]
  },
  {
   "cell_type": "markdown",
   "metadata": {},
   "source": [
    "# Korean analysis\n",
    "\n",
    "We compare the Korean inventories in phoible to our Korean dataset. For Korean, we use phonemizer.\n",
    "\n",
    "Our system does not seem to output long vowels or diphthongs (this could be a problem) but inventory 423 does the same, so we use our folding map to approach this inventory.\n",
    "\n",
    "Unknown phonemes:\n",
    "* `b`, `d`, `dʑ` and `ɡ` are the voiced `p` `t` `tɕ` and `k` which are valid but not listed in the inventory for some reason\n",
    "* `ɾ` is an allophone of `l` so should be valid\n",
    "\n",
    "We have several unseen phonemes. Five are consonants with glottal stops or aspiration, which don't seem to be produced by our tool. The remaining unseen phonemes are vowels. It is unclear why these are not produced by our tool. \n",
    "\n"
   ]
  },
  {
   "cell_type": "code",
   "execution_count": 18,
   "metadata": {},
   "outputs": [
    {
     "name": "stdout",
     "output_type": "stream",
     "text": [
      "Total phonemes in the dataset: 1608306\n",
      "Unique phonemes: ['w', 'a', 'WORD_BOUNDARY', 'j', 'o', 'ɾ', 'i', 'h', 'n̪', 'ɯ', 'd', 'e', 'ŋ', 'p', 'dʑ', 'u', 'm', 'ɡ', 'ɤ̞', 'l', 't̠ʃ', 'æ', 'b', 's̪', 'k', 't̪', 'pʰ', 'kʰ', 'ɯi', 't̠ʃʰ']\n",
      "\n",
      "----------------------------------------------------------------------------------------------------\n",
      "ALL PHOIBLE:\n",
      "Comparing the phonemes seen in the data with all phoible phonemes:\n",
      "Unknown phonemes: None\n",
      "----------------------------------------------------------------------------------------------------\n",
      "LANGUAGE CODE:\n",
      "\n",
      "Comparing the phonemes seen in the data with just the phonemes in phoible with the kor language code:\n",
      "Unknown phonemes: {'ɡ': 105270, 'd': 35819, 'dʑ': 19418, 'b': 7914}\n",
      "Unseen phonemes: {'ɛ̝', 'ɛː', 't̠ʃˀ', 'ɤː', 'uɛ', 'ɡ̊', 't͉', 'aː', 'd̥ʑ̥', 'kˀ', 'ø', 's̪ˀ', 'ue', 'uʌ', 't̪ʰ', 'eː', 'iː', 's', 'sʰ', 'p͉', 'sˀ', 'ɐ', 's͉', 'ɤ', 'iɛ', 't', 'tʰ', 'uː', 'tɕ', 'əː', 'ua', 'ʌ', 'ui', 'ɑ̟ː', 'e̞', 'd̥', 'iʌ', 'ɪ', 'ʊ̜', 'y', 'n', 'tɕʰ', 'oː', 'pˀ', 'ia', 'ɯ̽', 'ɘː', 'b̥', 'tˀ', 'ie', 't͉ɕ͉', 'æː', 'lː', 'ɛ', 'ɯː', 'ɨi', 'io', 'iu', 'k͉', 'o̞̜', 't̪ˀ', 'ʔ'}\n",
      "\n",
      "Phoible inventories names with the kor language code: ['Korean', 'KOREAN']\n",
      "Phoible dialects names with the kor language code: [nan, 'Standard Korean (spoken in and around Seoul)', 'Korean (Seoul)']\n",
      "----------------------------------------------------------------------------------------------------\n",
      "INVENTORIES:\n",
      "\n",
      "Now comparing the phonemes seen in the data with the phonemes in phoible with the specific language names ['Korean', 'KOREAN']:\n",
      "Inventory IDs matching the inventory names: {1, 2197, 423, 2287}\n",
      "Unknown phonemes: {'ɡ': 105270, 'd': 35819, 'dʑ': 19418, 'b': 7914}\n",
      "Unseen phonemes: {'ɛ̝', 'ɛː', 't̠ʃˀ', 'uɛ', 'ɤː', 'ɡ̊', 't͉', 'aː', 'd̥ʑ̥', 'kˀ', 'ue', 'ø', 's̪ˀ', 'uʌ', 'sʰ', 'eː', 's', 'iː', 't̪ʰ', 'p͉', 'ɐ', 'sˀ', 's͉', 'ɤ', 'iɛ', 'tʰ', 't', 'uː', 'tɕ', 'əː', 'ua', 'ʌ', 'ui', 'ɑ̟ː', 'e̞', 'ɪ', 'd̥', 'iʌ', 'ʊ̜', 'y', 'n', 'tɕʰ', 'oː', 'pˀ', 'ia', 'ɯ̽', 'ɘː', 'b̥', 'tˀ', 'ie', 't͉ɕ͉', 'æː', 'lː', 'ɛ', 'ɯː', 'ɨi', 'io', 'o̞̜', 'k͉', 'iu', 't̪ˀ', 'ʔ'}\n",
      "----------------------------------------------------------------------------------------------------\n",
      "INVENTORY ID:\n",
      "\n",
      "Now comparing the phonemes seen in the data with the phonemes in phoible with the specific inventory 423:\n",
      "Phonemes in inventory: ['h' 'j' 'k' 'kʰ' 'kˀ' 'l' 'm' 'n̪' 'p' 'pʰ' 'pˀ' 's̪' 's̪ˀ' 't̠ʃ' 't̠ʃʰ'\n",
      " 't̠ʃˀ' 't̪' 't̪ʰ' 't̪ˀ' 'w' 'ŋ' 'a' 'e' 'i' 'o' 'u' 'y' 'æ' 'ø' 'ɤ̞' 'ɯ'\n",
      " 'ɯi']\n",
      "Unknown phonemes: {'ɡ': 105270, 'ɾ': 41982, 'd': 35819, 'dʑ': 19418, 'b': 7914}\n",
      "Unseen phonemes: {'t̠ʃˀ', 'pˀ', 't̪ˀ', 'kˀ', 'ø', 's̪ˀ', 't̪ʰ', 'y'}\n"
     ]
    }
   ],
   "source": [
    "compare_phoneme_sets('Korean', 'kor', ['Korean', 'KOREAN'], 423)"
   ]
  },
  {
   "cell_type": "markdown",
   "metadata": {},
   "source": [
    "# Italian analysis\n",
    "\n",
    "We compare the Italian inventories in phoible to our Italian dataset. For Italian, we use phonemizer.\n",
    "\n",
    "The inventory with the closest match is 1145 (which Wikipedia cites). \n",
    "\n",
    "We have no unseen phonemes but many unknown phonemes. These are:\n",
    "* Long vowels: according to Wikipedia the distinction between long and short vowels is rare, but our tool seems to produce many long vowels. We could remove the length marker, but for now we keep it.\n",
    "* Long consonants: according to Wikipedia, Italian consonants can geminate, so we keep these\n",
    "* `ɾ` is an allophone for `r` so we keep it\n",
    "* `ŋ` is an allophone for `n` so we keep it\n",
    "* `ʒ` and `h` are very rare so we allow these\n",
    "\n",
    "\n"
   ]
  },
  {
   "cell_type": "code",
   "execution_count": 19,
   "metadata": {},
   "outputs": [
    {
     "name": "stdout",
     "output_type": "stream",
     "text": [
      "Total phonemes in the dataset: 1662350\n",
      "Unique phonemes: ['ɐ', 'n', 'i', 'm', 'l', 'WORD_BOUNDARY', 'k', 's', 't', 'o', 'ɔ', 'z', 'f', 'v', 'e', 'd', 'j', 't̠ʃ', 'b', 'ɛ', 'w', 'ɛː', 'p', 'r', 'u', 'kː', 'ɡ', 'ʎ', 'd̠ʒ', 'tː', 'ɐː', 'pː', 'ts', 'dː', 'oː', 'iː', 'sː', 't̠ʃː', 'ɾ', 'eː', 'dz', 'bː', 'd̠ʒː', 'ɲ', 'tsː', 'ʃ', 'a', 'ɔː', 'dzː', 'ŋ', 'h', 'mː', 'uː', 'ɡː', 'vː', 'ʒ', 'fː']\n",
      "\n",
      "----------------------------------------------------------------------------------------------------\n",
      "ALL PHOIBLE:\n",
      "Comparing the phonemes seen in the data with all phoible phonemes:\n",
      "Unknown phonemes: None\n",
      "----------------------------------------------------------------------------------------------------\n",
      "LANGUAGE CODE:\n",
      "\n",
      "Comparing the phonemes seen in the data with just the phonemes in phoible with the ita language code:\n",
      "Unknown phonemes: {'tː': 15795, 'iː': 4538, 'sː': 3958, 'ɛː': 2508, 'ɐː': 1860, 'oː': 1272, 'ŋ': 716, 'tsː': 704, 'dː': 664, 'eː': 508, 'dzː': 157, 'uː': 28, 'ɔː': 26, 'h': 17}\n",
      "Unseen phonemes: {'uɛ', 's̪', 'ɛu̯', 't̪ː', 'ue', 'ai̯', 'ɲː', 'ɛi̯', 'uɔ', 'eu̯', 'uiɛ', 't̪s̪ː', 'iɛ', 'd̪', 't̪', 'ɔi̯', 'ua', 'iɔ', 'ui', 'd̪z̪ː', 'nː', 'uie', 'ei̯', 'ia', 'ie', 'rː', 'lː', 's̪ː', 'ui̯', 'uo', 'yia', 'oi̯', 'z̪', 'ʃː', 'io', 'iu', 'd̪ː', 'ʎː', 'au̯'}\n",
      "\n",
      "Phoible inventories names with the ita language code: ['Italian']\n",
      "Phoible dialects names with the ita language code: [\"Mainstream Italian'''\", 'Standard Italian', nan]\n",
      "----------------------------------------------------------------------------------------------------\n",
      "INVENTORIES:\n",
      "\n",
      "Now comparing the phonemes seen in the data with the phonemes in phoible with the specific language names ['Italian']:\n",
      "Inventory IDs matching the inventory names: {1145, 2427, 2195}\n",
      "Unknown phonemes: {'tː': 15795, 'iː': 4538, 'sː': 3958, 'ɛː': 2508, 'ɐː': 1860, 'oː': 1272, 'ŋ': 716, 'tsː': 704, 'dː': 664, 'eː': 508, 'dzː': 157, 'uː': 28, 'ɔː': 26, 'h': 17}\n",
      "Unseen phonemes: {'uɛ', 's̪', 'ɛu̯', 't̪ː', 'ue', 'ai̯', 'ɲː', 'ɛi̯', 'uɔ', 'eu̯', 'uiɛ', 't̪s̪ː', 'iɛ', 't̪', 'd̪', 'ɔi̯', 'ua', 'iɔ', 'ui', 'd̪z̪ː', 'nː', 'uie', 'ei̯', 'ia', 'ie', 'rː', 'lː', 's̪ː', 'ui̯', 'uo', 'yia', 'oi̯', 'z̪', 'io', 'iu', 'ʃː', 'd̪ː', 'ʎː', 'au̯'}\n",
      "----------------------------------------------------------------------------------------------------\n",
      "INVENTORY ID:\n",
      "\n",
      "Now comparing the phonemes seen in the data with the phonemes in phoible with the specific inventory 1145:\n",
      "Phonemes in inventory: ['b' 'd' 'dz' 'd̠ʒ' 'f' 'j' 'k' 'l' 'm' 'n' 'p' 'r' 's' 't' 'ts' 't̠ʃ' 'v'\n",
      " 'w' 'z' 'ɡ' 'ɲ' 'ʃ' 'ʎ' 'e' 'i' 'o' 'u' 'ɐ' 'ɔ' 'ɛ']\n",
      "Unknown phonemes: {'tː': 15795, 'kː': 8408, 'iː': 4538, 'sː': 3958, 'ɾ': 2893, 't̠ʃː': 2860, 'ɛː': 2508, 'pː': 1996, 'ɐː': 1860, 'bː': 1541, 'oː': 1272, 'd̠ʒː': 1015, 'ŋ': 716, 'tsː': 704, 'dː': 664, 'eː': 508, 'a': 249, 'dzː': 157, 'ɡː': 111, 'uː': 28, 'ɔː': 26, 'h': 17, 'ʒ': 15, 'mː': 10, 'fː': 4, 'vː': 2}\n",
      "Unseen phonemes: None\n"
     ]
    }
   ],
   "source": [
    "compare_phoneme_sets('Italian', 'ita', ['Italian'], 1145)"
   ]
  },
  {
   "cell_type": "markdown",
   "metadata": {},
   "source": [
    "# Catalan analysis\n",
    "\n",
    "We compare the Catalan inventories in phoible to our Catalan dataset. For Catalan, we use phonemizer.\n",
    "\n",
    "With our folding dictionary we get close to inventory 2555. We have two unseen phonemes, `dz̺` and `i̯`. It is unclear why these are not produced. I'm also not sure what the distinction between `i` and `i̯` is. It is also worth noting that none of the Catalan inventories include diphthongs, nor does our tool produce diphthongs, even though Wikipedia says that there are phonemic diphthongs in Catalan.\n",
    "\n",
    "The three unknown phonemes, `ð`, `β`, `ɣ` are the lenited versions of `d`, `b` and `g` which are produced in Catalan, so we keep these.\n"
   ]
  },
  {
   "cell_type": "code",
   "execution_count": 20,
   "metadata": {},
   "outputs": [
    {
     "name": "stdout",
     "output_type": "stream",
     "text": [
      "Total phonemes in the dataset: 1404320\n",
      "Unique phonemes: ['a', 'WORD_BOUNDARY', 'w', 'ɛ', 'ə', 'ð', 't̪', 'j', 'i', 'ɔ', 'n̺', 'z̺', 'd̪', 's̺', 'β', 'm', 'e', 'f', 'ɾ̺', 'r̺', 'u̯', 'k', 'b', 'p', 'ɣ', 'ɡ', 'u', 'ŋ', 'o', 'ɫ̺', 'ɲ̟', 'ʒ', 'ʃ', 'ʎ̟', 't̠ʃ', 'd̠ʒ', 'ts̺']\n",
      "\n",
      "----------------------------------------------------------------------------------------------------\n",
      "ALL PHOIBLE:\n",
      "Comparing the phonemes seen in the data with all phoible phonemes:\n",
      "Unknown phonemes: None\n",
      "----------------------------------------------------------------------------------------------------\n",
      "LANGUAGE CODE:\n",
      "\n",
      "Comparing the phonemes seen in the data with just the phonemes in phoible with the cat language code:\n",
      "Unknown phonemes: {'β': 29440, 'ð': 17453, 'ɣ': 10169}\n",
      "Unseen phonemes: {'ɾ', 'ɛu̯', 'i̯a', 'u̯a', 'dz̺', 'i̯', 'l̺', 's', 'l', 'c', 'i̯ɛ', 'ɔ̞', 'u̯ə', 'ou̯', 'a̟', 'v', 'ɛ̞', 'ə̹', 'ɟ', 'n', 'ei̯', 'ʎ', 'r', 'ui̯', 'z', 'ɲ'}\n",
      "\n",
      "Phoible inventories names with the cat language code: ['Catalan']\n",
      "Phoible dialects names with the cat language code: ['Barcelona', 'Catalan (Southern Valencian)', 'Catalan (Central)', 'Catalan (Mallorcan)']\n",
      "----------------------------------------------------------------------------------------------------\n",
      "INVENTORIES:\n",
      "\n",
      "Now comparing the phonemes seen in the data with the phonemes in phoible with the specific language names ['Catalan']:\n",
      "Inventory IDs matching the inventory names: {2425, 1138, 2555, 2594}\n",
      "Unknown phonemes: {'β': 29440, 'ð': 17453, 'ɣ': 10169}\n",
      "Unseen phonemes: {'ɾ', 'ɛu̯', 'i̯a', 'u̯a', 'dz̺', 'i̯', 'l̺', 's', 'l', 'c', 'i̯ɛ', 'ɔ̞', 'u̯ə', 'ou̯', 'a̟', 'ɛ̞', 'ə̹', 'v', 'ɟ', 'n', 'ei̯', 'ʎ', 'r', 'ui̯', 'z', 'ɲ'}\n",
      "----------------------------------------------------------------------------------------------------\n",
      "INVENTORY ID:\n",
      "\n",
      "Now comparing the phonemes seen in the data with the phonemes in phoible with the specific inventory 2555:\n",
      "Phonemes in inventory: ['b' 'dz̺' 'd̠ʒ' 'd̪' 'f' 'j' 'k' 'm' 'n̺' 'p' 'r̺' 's̺' 'ts̺' 't̠ʃ' 't̪'\n",
      " 'w' 'z̺' 'ŋ' 'ɡ' 'ɫ̺' 'ɲ̟' 'ɾ̺' 'ʃ' 'ʎ̟' 'ʒ' 'a' 'e' 'i' 'i̯' 'o' 'u'\n",
      " 'u̯' 'ɔ' 'ə' 'ɛ']\n",
      "Unknown phonemes: {'β': 29440, 'ð': 17453, 'ɣ': 10169}\n",
      "Unseen phonemes: {'dz̺', 'i̯'}\n"
     ]
    }
   ],
   "source": [
    "compare_phoneme_sets('Catalan', 'cat', ['Catalan'], 2555)"
   ]
  },
  {
   "cell_type": "markdown",
   "metadata": {},
   "source": [
    "# Croatian analysis\n",
    "\n",
    "We compare the Croatian inventory in phoible to our Croatian dataset. For Croatian, we use phonemizer.\n",
    "\n",
    "With our folding dictionary, we get close to inventory 1139 (the only inventory for Serbian).\n",
    "\n",
    "The unseen phonemes are mostly long vowels, which epitran fails to produce (**this might be an issue**). We also don't seem to produce `tɕ` and `dʑ`.\n",
    "\n",
    "The unknown phonemes are sufficiently rare."
   ]
  },
  {
   "cell_type": "code",
   "execution_count": 21,
   "metadata": {},
   "outputs": [
    {
     "name": "stdout",
     "output_type": "stream",
     "text": [
      "Total phonemes in the dataset: 1414808\n",
      "Unique phonemes: ['u', 'x', 'WORD_BOUNDARY', 'k', 'e', 'a', 't̪', 'n', 'o', 'd̪', 'i', 'r', 'm', 'ʃ', 'p', 's', 'ʋ', 'j', 't̠ʃ', 'l', 'ɡ', 'ʒ', 'b', 't̪s', 'z', 'd̠ʒ', 'ʎ', 'f', 'ɲ', 'y', 'q', 'w']\n",
      "\n",
      "----------------------------------------------------------------------------------------------------\n",
      "ALL PHOIBLE:\n",
      "Comparing the phonemes seen in the data with all phoible phonemes:\n",
      "Unknown phonemes: None\n",
      "----------------------------------------------------------------------------------------------------\n",
      "LANGUAGE CODE:\n",
      "\n",
      "Comparing the phonemes seen in the data with just the phonemes in phoible with the hrv language code:\n",
      "Unknown phonemes: {'y': 59, 'q': 42, 'w': 29}\n",
      "Unseen phonemes: {'dʑ', 'oː', 'aː', 'tɕ', 'uː', 'ie', 'eː', 'iː'}\n",
      "\n",
      "Phoible inventories names with the hrv language code: ['Croatian']\n",
      "Phoible dialects names with the hrv language code: [nan]\n",
      "----------------------------------------------------------------------------------------------------\n",
      "INVENTORIES:\n",
      "\n",
      "Now comparing the phonemes seen in the data with the phonemes in phoible with the specific language names ['Croatian']:\n",
      "Inventory IDs matching the inventory names: {1139}\n",
      "Unknown phonemes: {'y': 59, 'q': 42, 'w': 29}\n",
      "Unseen phonemes: {'dʑ', 'oː', 'aː', 'tɕ', 'uː', 'ie', 'eː', 'iː'}\n",
      "----------------------------------------------------------------------------------------------------\n",
      "INVENTORY ID:\n",
      "\n",
      "Now comparing the phonemes seen in the data with the phonemes in phoible with the specific inventory 1139:\n",
      "Phonemes in inventory: ['b' 'dʑ' 'd̠ʒ' 'd̪' 'f' 'j' 'k' 'l' 'm' 'n' 'p' 'r' 's' 'tɕ' 't̠ʃ' 't̪'\n",
      " 't̪s' 'x' 'z' 'ɡ' 'ɲ' 'ʃ' 'ʋ' 'ʎ' 'ʒ' 'a' 'aː' 'e' 'eː' 'i' 'ie' 'iː' 'o'\n",
      " 'oː' 'u' 'uː']\n",
      "Unknown phonemes: {'y': 59, 'q': 42, 'w': 29}\n",
      "Unseen phonemes: {'dʑ', 'oː', 'aː', 'tɕ', 'uː', 'ie', 'eː', 'iː'}\n"
     ]
    }
   ],
   "source": [
    "compare_phoneme_sets('Croatian', 'hrv', ['Croatian'], 1139)"
   ]
  },
  {
   "cell_type": "markdown",
   "metadata": {},
   "source": [
    "# Welsh analysis\n",
    "\n",
    "We compare the Welsh inventory in phoible to our Welsh dataset. For Welsh, we use phonemizer.\n",
    "\n",
    "With our folding dictionary, we get close to inventory 1139 (the only inventory for Welsh).\n",
    "\n",
    "Unseen phonemes\n",
    "* `m̥`, `r̥`, `ŋ̥` and `n̥` - voiceless consonants which are not included in some interpretations of Welsh phonology.\n",
    "* `tʰ`, `pʰ` and `kʰ` - aspirated stops, not always included in Welsh phonology.\n",
    "* `t̠ʃ` - a rare phoneme mostly found in loan words.\n",
    "* `əu` - a diphthong that should be produced, unclear why it is not here.\n",
    "\n",
    "Unknown phonemes:\n",
    "* `d`, `b`, `g` - voiceless stops. These should definitely be listed, not clear why the inventory does not include them. \n",
    "* `ø` and `ʌ` - vowels not listed in the inventory, it's not obvious what they should be mapped to.  They are both produced when there is a `y` in the orthography and should be different vowels in different contexts, so can't be easily mapped. In most cases, they should be `iː` or `ɪ`. **This may be an issue**"
   ]
  },
  {
   "cell_type": "code",
   "execution_count": 22,
   "metadata": {},
   "outputs": [
    {
     "name": "stdout",
     "output_type": "stream",
     "text": [
      "Total phonemes in the dataset: 2605636\n",
      "Unique phonemes: ['ø', 'h', 'WORD_BOUNDARY', 'd', 'eː', 'χ', 'r', 'ai', 'ɛ', 't', 'ɔ', 'w', 'a', 'n', 'j', 'au', 'ə', 'ɔi', 'ð', 'oː', 'iː', 'ɪ', 'b', 's', 'ɡ', 'ʊi', 'ʊ', 'm', 'əi', 'θ', 'l', 'ʌ', 'ŋ', 'v', 'k', 'ɬ', 'p', 'f', 'ɪu', 'uː', 'ʃ', 'ɑː', 'ɛu', 'd̠ʒ', 'z']\n",
      "\n",
      "----------------------------------------------------------------------------------------------------\n",
      "ALL PHOIBLE:\n",
      "Comparing the phonemes seen in the data with all phoible phonemes:\n",
      "Unknown phonemes: None\n",
      "----------------------------------------------------------------------------------------------------\n",
      "LANGUAGE CODE:\n",
      "\n",
      "Comparing the phonemes seen in the data with just the phonemes in phoible with the cym language code:\n",
      "Unknown phonemes: {'d': 131028, 'ø': 52358, 'b': 47839, 'ɡ': 41191, 'ʌ': 32131}\n",
      "Unseen phonemes: {'ŋ̥', 'kʰ', 'pʰ', 'tʰ', 'n̥', 't̠ʃ', 'r̥', 'm̥', 'əu'}\n",
      "\n",
      "Phoible inventories names with the cym language code: ['Welsh']\n",
      "Phoible dialects names with the cym language code: ['Welsh (Llanwrtyd)']\n",
      "----------------------------------------------------------------------------------------------------\n",
      "INVENTORIES:\n",
      "\n",
      "Now comparing the phonemes seen in the data with the phonemes in phoible with the specific language names ['Welsh']:\n",
      "Inventory IDs matching the inventory names: {2406}\n",
      "Unknown phonemes: {'d': 131028, 'ø': 52358, 'b': 47839, 'ɡ': 41191, 'ʌ': 32131}\n",
      "Unseen phonemes: {'ŋ̥', 'kʰ', 'tʰ', 'pʰ', 'n̥', 't̠ʃ', 'r̥', 'm̥', 'əu'}\n",
      "----------------------------------------------------------------------------------------------------\n",
      "INVENTORY ID:\n",
      "\n",
      "Now comparing the phonemes seen in the data with the phonemes in phoible with the specific inventory 2406:\n",
      "Phonemes in inventory: ['d̠ʒ' 'f' 'h' 'j' 'k' 'kʰ' 'l' 'm' 'm̥' 'n' 'n̥' 'p' 'pʰ' 'r' 'r̥' 's'\n",
      " 't' 'tʰ' 't̠ʃ' 'v' 'w' 'z' 'ð' 'ŋ' 'ŋ̥' 'ɬ' 'ʃ' 'θ' 'χ' 'a' 'ai' 'au'\n",
      " 'eː' 'iː' 'oː' 'uː' 'ɑː' 'ɔ' 'ɔi' 'ə' 'əi' 'əu' 'ɛ' 'ɛu' 'ɪ' 'ɪu' 'ʊ'\n",
      " 'ʊi']\n",
      "Unknown phonemes: {'d': 131028, 'ø': 52358, 'b': 47839, 'ɡ': 41191, 'ʌ': 32131}\n",
      "Unseen phonemes: {'ŋ̥', 'kʰ', 'pʰ', 'tʰ', 'n̥', 't̠ʃ', 'r̥', 'm̥', 'əu'}\n"
     ]
    }
   ],
   "source": [
    "compare_phoneme_sets('Welsh', 'cym', ['Welsh'], 2406)"
   ]
  },
  {
   "cell_type": "markdown",
   "metadata": {},
   "source": [
    "# Icelandic analysis\n",
    "\n",
    "We compare the Icelandic inventories in phoible to our Icelandic dataset. For Icelandic, we use phonemizer.\n",
    "\n",
    "With our folding dictionary, we get close to inventory 2568.\n",
    "\n",
    "Unseen phonemes:\n",
    "* `aː`, `ɛː`, `ɔː`, `uː`, `iː`, `ɪː`, `ʏ` and `œː` - long vowels that should maybe be shortened, but mostly do exist in the other inventory.\n",
    "* `ə` - not in the other inventory, unclear if it should be here\n",
    "* `g` - not in either inventory but listed on wikipedia. Could be mapped to `kʰ`?\n",
    "* `z` and `ʃ` which are sufficiently rare\n",
    "\n",
    "Generally, it does not seem to be a great mapping."
   ]
  },
  {
   "cell_type": "code",
   "execution_count": 23,
   "metadata": {},
   "outputs": [
    {
     "name": "stdout",
     "output_type": "stream",
     "text": [
      "Total phonemes in the dataset: 1337174\n",
      "Unique phonemes: ['pʰ', 'iː', 'i', 'WORD_BOUNDARY', 'aː', 'r̥', 'ɪ', 'ɛ', 't̪ʰ', 's̺', 'j', 'ä', 'k', 'ʋ', 'ɛː', 'r', 'ei̯', 'θ̻', 'l', 'n̪', 't̪', 'ɬ', 'uː', 'ð̺̞', 'ɡ', 'c', 'h', 'ɔ', 'n̪̥', 'äu̯', 'ŋ̥', 'ʏ', 'ɔː', 'x', 'cʰ', 'm', 'f', 'ou̯', 'p', 'ŋ', 'øɪ̯', 'äi̯', 'ɰ', 'ʏː', 'u', 'ɪː', 'œ', 'ə', 'œː', 'ɲ', 'm̥', 'ç', 'ɔi̯', 'z', 'n̪ː', 'ɲ̥', 'ʏi̯', 'ʃ']\n",
      "\n",
      "----------------------------------------------------------------------------------------------------\n",
      "ALL PHOIBLE:\n",
      "Comparing the phonemes seen in the data with all phoible phonemes:\n",
      "Unknown phonemes: None\n",
      "----------------------------------------------------------------------------------------------------\n",
      "LANGUAGE CODE:\n",
      "\n",
      "Comparing the phonemes seen in the data with just the phonemes in phoible with the isl language code:\n",
      "Unknown phonemes: {'ɡ': 18371, 'ɪː': 8500, 'ə': 6532, 'ʏː': 1570, 'z': 12, 'ʃ': 4, 'n̪ː': 2}\n",
      "Unseen phonemes: {'j̥', 'θ', 'ʍ', 'e', 'a', 'l̥', 'øː', 'ɣ', 'kʰ', 't', 'tʰ', 'ø', 'n̥', 'ŋˑ', 'v', 'eː', 's', 'n'}\n",
      "\n",
      "Phoible inventories names with the isl language code: ['Icelandic']\n",
      "Phoible dialects names with the isl language code: [nan]\n",
      "----------------------------------------------------------------------------------------------------\n",
      "INVENTORIES:\n",
      "\n",
      "Now comparing the phonemes seen in the data with the phonemes in phoible with the specific language names ['Icelandic']:\n",
      "Inventory IDs matching the inventory names: {2568, 158}\n",
      "Unknown phonemes: {'ɡ': 18371, 'ɪː': 8500, 'ə': 6532, 'ʏː': 1570, 'z': 12, 'ʃ': 4, 'n̪ː': 2}\n",
      "Unseen phonemes: {'θ', 'j̥', 'ʍ', 'e', 'a', 'l̥', 'øː', 'ɣ', 'kʰ', 't', 'tʰ', 'ø', 'n̥', 'ŋˑ', 'v', 'eː', 's', 'n'}\n",
      "----------------------------------------------------------------------------------------------------\n",
      "INVENTORY ID:\n",
      "\n",
      "Now comparing the phonemes seen in the data with the phonemes in phoible with the specific inventory 2568:\n",
      "Phonemes in inventory: ['c' 'cʰ' 'f' 'h' 'j' 'k' 'kʰ' 'l' 'm' 'm̥' 'n̪' 'n̪̥' 'p' 'pʰ' 'r' 'r̥'\n",
      " 's̺' 't̪' 't̪ʰ' 'x' 'ç' 'ð̺̞' 'ŋ' 'ŋ̥' 'ɬ' 'ɰ' 'ɲ' 'ɲ̥' 'ʋ' 'θ̻' 'ä'\n",
      " 'äi̯' 'äu̯' 'ei̯' 'i' 'ou̯' 'u' 'øɪ̯' 'œ' 'ɔ' 'ɔi̯' 'ɛ' 'ɪ' 'ʏ' 'ʏi̯']\n",
      "Unknown phonemes: {'ɛː': 47840, 'aː': 46805, 'ɡ': 18371, 'ɔː': 14043, 'uː': 12626, 'iː': 11883, 'ɪː': 8500, 'ə': 6532, 'ʏː': 1570, 'œː': 1451, 'z': 12, 'ʃ': 4, 'n̪ː': 2}\n",
      "Unseen phonemes: {'kʰ'}\n"
     ]
    }
   ],
   "source": [
    "compare_phoneme_sets('Icelandic', 'isl', ['Icelandic'], 2568)"
   ]
  },
  {
   "cell_type": "markdown",
   "metadata": {},
   "source": [
    "# Danish analysis\n",
    "\n",
    "We compare the Danish inventories in phoible to our Danish dataset. For Danish, we use phonemizer.\n",
    "\n",
    "The output of phonemizer differs substantially from phoible and Wikipedia. With our folding dictionary we get close to inventory 2265, but there are some issues.\n",
    "\n",
    "Unseen phonemes:\n",
    "* `r` - phonemizer was producing `ɐ̯`, which is a correct phonetic realisation of `/r/`, but not listed in phoible, so we map it to the phoneme `/r/`. \n",
    "* `d`, `g`, `b`, `ŋ`, `ɕ`, `ð`, `w` - consonants not listed the other inventory (unclear why) but listed on Wikipedia. \n",
    "* `eˤ`, `ɑˤ`, `iˤ`, `uˤ`, `oˤ`, `aˤ`  - the Danish stød, which phonemizer seems to produce \n",
    "* `ɒ`, `ɑ`, `ɒː`, `uː`, `œː`, `ɜ`, `ɔː`, `oː` - vowels not listed in this inventory, but are listed in the other inventory or on Wikipedia\n",
    "* Remaining phonemes are rare or from loan words\n",
    "\n",
    "Unknown phonemes:\n",
    "* `kʰ`, `pʰ` and `tsʰ` - aspirated consonants which the tool doesn't seem to produce\n",
    "* `ø` - a vowel listed in this inventory that doesn't seem to be produced\n",
    "\n",
    "Generally, it does not seem to be a great mapping."
   ]
  },
  {
   "cell_type": "code",
   "execution_count": 24,
   "metadata": {},
   "outputs": [
    {
     "name": "stdout",
     "output_type": "stream",
     "text": [
      "Total phonemes in the dataset: 1099484\n",
      "Unique phonemes: ['n', 'oˤ', 't', 'WORD_BOUNDARY', 'y', 'ə', 'ð', 'ʁ', 'ɑˤː', 's', 'k', 'i', 'b', 'eˤ', 't̠ʃ', 'a', 'l', 'd', 'ɡ', 'f', 'e', 'ɛ', 'r', 'ɔ', 'w', 'ɔˤ', 'm', 'uˤ', 'j', 'ɑ', 'u', 'ɒ', 'iˤ', 'ʋ', 'h', 'œ', 'p', 'ɕ', 'o', 'ŋ', 'aˤ', 'ɜ', 'ɒː', 'œː', 'eː', 'aː', 'd̠ʒ', 'uː', 'ɔː', 'oː', 'iː', 'θ', 'ʔ', 'ɛː', 'yː']\n",
      "\n",
      "----------------------------------------------------------------------------------------------------\n",
      "ALL PHOIBLE:\n",
      "Comparing the phonemes seen in the data with all phoible phonemes:\n",
      "Unknown phonemes: None\n",
      "----------------------------------------------------------------------------------------------------\n",
      "LANGUAGE CODE:\n",
      "\n",
      "Comparing the phonemes seen in the data with just the phonemes in phoible with the dan language code:\n",
      "Unknown phonemes: {'d': 57859, 'eˤ': 34287, 'ɔˤ': 26983, 'ð': 14994, 'ɑˤː': 12312, 'iˤ': 10617, 'uˤ': 9149, 'ɡ': 8951, 'b': 8373, 'oˤ': 6746, 'aˤ': 744, 'ɒː': 509, 'uː': 189, 'œː': 144, 'ɜ': 86, 'd̠ʒ': 69, 'ɔː': 66, 'aː': 32, 'oː': 32, 'yː': 30, 'iː': 14, 't̠ʃ': 12, 'eː': 12, 'θ': 7, 'ɛː': 3, 'ʔ': 2}\n",
      "Unseen phonemes: {'i̯ʌ', 'ɡ̊', 'œu̯', 'i̯e', 'iu̯', 'ɛu̯', 'œi̯', 'i̯a', 'ø', 'i̯o', 'b̥ʰ', 'i̯ɔ', 'iʌ̯', 'eu̯', 'i̯ɛ', 'æ', 'yʌ̯', 'ɑi̯', 'kʰ', 'ð̞', 'eʌ̯', 'd̥z̥', 'ʁ̞', 'i̯ɑ', 'øu̯', 'i̯y', 'i̯u', 'œ̞ʌ̯', 'd̥', 'æʌ̯', 'ʌ', 'ɡ̊ʰ', 'i̯œ̞', 'i̯œ', 'i̯ø', 'yu̯', 'øʌ̯', 'b̥', 'ɑu̯', 'i̯æ', 'tsʰ', 'oʌ̯', 'uʌ̯', 'i̯ɒ', 'ɒu̯', 'œ̞', 'ui̯', 'pʰ', 'æu̯'}\n",
      "\n",
      "Phoible inventories names with the dan language code: ['Danish']\n",
      "Phoible dialects names with the dan language code: [nan]\n",
      "----------------------------------------------------------------------------------------------------\n",
      "INVENTORIES:\n",
      "\n",
      "Now comparing the phonemes seen in the data with the phonemes in phoible with the specific language names ['Danish']:\n",
      "Inventory IDs matching the inventory names: {2265, 2167}\n",
      "Unknown phonemes: {'d': 57859, 'eˤ': 34287, 'ɔˤ': 26983, 'ð': 14994, 'ɑˤː': 12312, 'iˤ': 10617, 'uˤ': 9149, 'ɡ': 8951, 'b': 8373, 'oˤ': 6746, 'aˤ': 744, 'ɒː': 509, 'uː': 189, 'œː': 144, 'ɜ': 86, 'd̠ʒ': 69, 'ɔː': 66, 'aː': 32, 'oː': 32, 'yː': 30, 'iː': 14, 't̠ʃ': 12, 'eː': 12, 'θ': 7, 'ɛː': 3, 'ʔ': 2}\n",
      "Unseen phonemes: {'i̯ʌ', 'ɡ̊', 'œu̯', 'i̯e', 'iu̯', 'ɛu̯', 'œi̯', 'i̯a', 'ø', 'i̯o', 'b̥ʰ', 'i̯ɔ', 'iʌ̯', 'eu̯', 'i̯ɛ', 'æ', 'yʌ̯', 'kʰ', 'ɑi̯', 'ð̞', 'øu̯', 'eʌ̯', 'ʁ̞', 'ʌ', 'd̥z̥', 'œ̞ʌ̯', 'i̯u', 'i̯ɑ', 'd̥', 'i̯y', 'æʌ̯', 'ɡ̊ʰ', 'i̯œ̞', 'i̯œ', 'i̯ø', 'yu̯', 'øʌ̯', 'b̥', 'ɑu̯', 'i̯æ', 'tsʰ', 'oʌ̯', 'uʌ̯', 'i̯ɒ', 'ɒu̯', 'œ̞', 'ui̯', 'pʰ', 'æu̯'}\n",
      "----------------------------------------------------------------------------------------------------\n",
      "INVENTORY ID:\n",
      "\n",
      "Now comparing the phonemes seen in the data with the phonemes in phoible with the specific inventory 2265:\n",
      "Phonemes in inventory: ['f' 'h' 'j' 'k' 'kʰ' 'l' 'm' 'n' 'p' 'pʰ' 's' 't' 'tsʰ' 'ʁ' 'ʋ' 'a' 'e'\n",
      " 'i' 'o' 'u' 'y' 'ø' 'œ' 'ɔ' 'ə' 'ɛ']\n",
      "Unknown phonemes: {'d': 57859, 'r': 35987, 'eˤ': 34287, 'ɔˤ': 26983, 'ɒ': 18392, 'ð': 14994, 'ɑ': 13322, 'ɑˤː': 12312, 'iˤ': 10617, 'uˤ': 9149, 'ɡ': 8951, 'b': 8373, 'w': 7864, 'oˤ': 6746, 'ŋ': 2667, 'aˤ': 744, 'ɒː': 509, 'ɕ': 202, 'uː': 189, 'œː': 144, 'ɜ': 86, 'd̠ʒ': 69, 'ɔː': 66, 'aː': 32, 'oː': 32, 'yː': 30, 'iː': 14, 't̠ʃ': 12, 'eː': 12, 'θ': 7, 'ɛː': 3, 'ʔ': 2}\n",
      "Unseen phonemes: {'kʰ', 'pʰ', 'tsʰ', 'ø'}\n"
     ]
    }
   ],
   "source": [
    "compare_phoneme_sets('Danish', 'dan', ['Danish'], 2265)"
   ]
  },
  {
   "cell_type": "markdown",
   "metadata": {},
   "source": [
    "# Norwegian analysis\n",
    "\n",
    "We compare the Norwegian inventories in phoible to our Norwegian dataset. For Norwegian, we use phonemizer.\n",
    "\n",
    "With our folding dictionary we get close to inventory 499.\n",
    "\n",
    "Unseen phonemes:\n",
    "* `ɑ` - not listed in the inventory, but listed in other inventories and on Wikipedia.\n",
    "* `kː`, `pː`, `ɡː`, `bː`, `tː`, `dː` - long consonants produced by phonemizer. Not listed in phoible but is a feature of Norwegian (although perhaps not for `k` and `g`) \n",
    "* `ʂ`  - present in the other inventories and a valid consonant for Norwegian\n",
    "* Remaining phonemes are rare or from loan words\n",
    "\n",
    "Unknown phonemes:\n",
    "* `æi` - diphthong that doesn't seem to be produced by our tool\n",
    "* `ɳ`, `ɭ`, `ʈʰ` and `ɖ` - retroflex allophones of consonants we already have"
   ]
  },
  {
   "cell_type": "code",
   "execution_count": 25,
   "metadata": {},
   "outputs": [
    {
     "name": "stdout",
     "output_type": "stream",
     "text": [
      "Total phonemes in the dataset: 957505\n",
      "Unique phonemes: ['t̪ʰ', 'ɑ', 'kː', 'WORD_BOUNDARY', 'ʋ', 'a', 'ɾ', 'ʃ', 'o̞ː', 'ɡ', 'uː', 'd̪', 'eː', 'e̞', 's', 'h', 'ʉː', 'tː', 'n̪', 'pː', 'ə', 'l', 'ɪ', 'b', 'iː', 'æ', 'j', 'kʰ', 'ʉ', 'ɒ̝', 'm', 'ø̞ː', 'f', 'yː', 'ai', 'pʰ', 'ŋ', 'dː', 'œ', 'øy', 'bː', 'ç', 'æː', 'ɑː', 'ʏ', 'æʉ', 'ʊ', 'ɡː', 'ɔy', 'ʂ', 'w', 'z']\n",
      "\n",
      "----------------------------------------------------------------------------------------------------\n",
      "ALL PHOIBLE:\n",
      "Comparing the phonemes seen in the data with all phoible phonemes:\n",
      "Unknown phonemes: None\n",
      "----------------------------------------------------------------------------------------------------\n",
      "LANGUAGE CODE:\n",
      "\n",
      "Comparing the phonemes seen in the data with just the phonemes in phoible with the nob language code:\n",
      "Unknown phonemes: {'ɑ': 48236, 'kː': 6345, 'tː': 6212, 'pː': 3562, 'ɡː': 1044, 'dː': 747, 'ʂ': 380, 'bː': 215, 'w': 19, 'z': 5}\n",
      "Unseen phonemes: {'˥˧˥', '˩˨', 'ɭ̩', 'ɖ', 'ʈʰ', 'l̪̩', 'aː', 'ɳ', 'ɭ', 'ʔ', 'u', 'æi', 'l̪', 'm̥', 'ɹ̩'}\n",
      "\n",
      "Phoible inventories names with the nob language code: ['Norwegian', 'NORWEGIAN']\n",
      "Phoible dialects names with the nob language code: [nan]\n",
      "----------------------------------------------------------------------------------------------------\n",
      "INVENTORIES:\n",
      "\n",
      "Now comparing the phonemes seen in the data with the phonemes in phoible with the specific language names ['Norwegian', 'NORWEGIAN']:\n",
      "Inventory IDs matching the inventory names: {2441, 499, 159}\n",
      "Unknown phonemes: {'kː': 6345, 'tː': 6212, 'pː': 3562, 'ɡː': 1044, 'dː': 747, 'bː': 215, 'z': 5}\n",
      "Unseen phonemes: {'øː', 'ʈʰ', 'aː', 'ɭ', 'u', '˥˧˥', '˩˨', 'ɔ', 'ɖ', 'tʰ', 'ɽ', 'æi', 'm̥', 'y', 'n', 'ɭ̩', 'oː', 'l̪̩', 'ɳ', 'i', 'd', 'ɛ', 'l̪', 'ʔ', 'ʈ', 'ɹ̩'}\n",
      "----------------------------------------------------------------------------------------------------\n",
      "INVENTORY ID:\n",
      "\n",
      "Now comparing the phonemes seen in the data with the phonemes in phoible with the specific inventory 499:\n",
      "Phonemes in inventory: ['b' 'd̪' 'f' 'h' 'j' 'kʰ' 'l' 'm' 'n̪' 'pʰ' 's' 't̪ʰ' 'ç' 'ŋ' 'ɖ' 'ɡ' 'ɭ'\n",
      " 'ɳ' 'ɾ' 'ʃ' 'ʈʰ' 'ʋ' 'a' 'ai' 'eː' 'e̞' 'iː' 'o̞ː' 'uː' 'yː' 'æ' 'æi'\n",
      " 'æʉ' 'æː' 'øy' 'ø̞ː' 'œ' 'ɑː' 'ɒ̝' 'ɔy' 'ə' 'ɪ' 'ʉ' 'ʉː' 'ʊ' 'ʏ']\n",
      "Unknown phonemes: {'ɑ': 48236, 'kː': 6345, 'tː': 6212, 'pː': 3562, 'ɡː': 1044, 'dː': 747, 'ʂ': 380, 'bː': 215, 'w': 19, 'z': 5}\n",
      "Unseen phonemes: {'ɖ', 'ʈʰ', 'ɳ', 'ɭ', 'æi'}\n"
     ]
    }
   ],
   "source": [
    "compare_phoneme_sets('Norwegian', 'nob', ['Norwegian', 'NORWEGIAN'], 499)"
   ]
  },
  {
   "cell_type": "markdown",
   "metadata": {},
   "source": [
    "# Basque analysis\n",
    "\n",
    "We compare the Basque inventories in phoible to our Basque dataset. For Basque, we use phonemizer.\n",
    "\n",
    "The best inventory to match with the output of phonemizer seems to be 2161, since it is the only Basque inventory that contains diphthongs (which our tool produces and which exist in Basque). With our folding dictionary, we get a close match.\n",
    "\n",
    "Unseen phonemes:\n",
    "* `β`, `ð` and `ɣ` - the unvoiced `b`, `d` and `ɡ` which should be listed in the inventory\n",
    "* `ɟ` - a valid consonant listed on Wikipedia and in other inventories\n",
    "* `θ`  - rare, produced in Spanish loan words\n",
    "\n",
    "Unknown phonemes:\n",
    "* `˧˩` and `˧˥` - Pitch/tone is used to mark stress in some dialects of Basque, but our tool does not produce these\n"
   ]
  },
  {
   "cell_type": "code",
   "execution_count": 26,
   "metadata": {},
   "outputs": [
    {
     "name": "stdout",
     "output_type": "stream",
     "text": [
      "Total phonemes in the dataset: 1173225\n",
      "Unique phonemes: ['e', 's̪̻', 'WORD_BOUNDARY', 'ɟ', 'ei̯', 't̺s̺', 'i', 'oi̯', 'a', 'ɾ', 'k', 't̠ʃ', 's̺', 'l', 'p', 'o', 'r', 't̪', 'u', 'ai̯', 'n', 'm', 'ð', 't̪̻s̪̻', 'β', 'ʎ', 'b', 'ɡ', 'ɣ', 'au̯', 'c', 'j', 'd̪', 'ʃ', 'ɲ', 'f', 'eu̯', 'θ', 'x', 'y']\n",
      "\n",
      "----------------------------------------------------------------------------------------------------\n",
      "ALL PHOIBLE:\n",
      "Comparing the phonemes seen in the data with all phoible phonemes:\n",
      "Unknown phonemes: None\n",
      "----------------------------------------------------------------------------------------------------\n",
      "LANGUAGE CODE:\n",
      "\n",
      "Comparing the phonemes seen in the data with just the phonemes in phoible with the eus language code:\n",
      "Unknown phonemes: {'β': 24938, 'ð': 22095, 'ɣ': 16526, 'θ': 264}\n",
      "Unseen phonemes: {'ʒ', 's̻', 'ĩ', 'äː', 'l̪|l', 'r̺', '˧˥', 'i̯', 't̪|t', 'ʂ', 't̻s̻', 'n̪|n', 'l̺', 'iː', 'h', 'z̺', 'd̪|d', 'r̪|r', 'o̞ː', 'dz̻', 't', 'kʰ', 'tʰ', 'z̻', 'χ', 'n̺', 'h̃', 'ũ', 'uː', 'e̞ː', 'ɾ̪|ɾ', 'e̞', 'ɪ', 'ts̻', 'ẽ̞', '˧˩', 'ts̺', 'õ̞', 's̪|s', 'ä', 'o̞', 'ʈʂ', 'd', 'pʰ', 'ỹ', 'd̠ʒ', 'ɾ̺', 't̪s̪|ts', 'u̯', 'ã̈'}\n",
      "\n",
      "Phoible inventories names with the eus language code: ['Basque', 'BASQUE', 'Zuberoan Basque']\n",
      "Phoible dialects names with the eus language code: [nan, 'Goizueta Basque', 'Basque (Baztan)', 'Basque (Arbizu)', 'Basque (Gernika)', 'Basque (Ondarroa)']\n",
      "----------------------------------------------------------------------------------------------------\n",
      "INVENTORIES:\n",
      "\n",
      "Now comparing the phonemes seen in the data with the phonemes in phoible with the specific language names ['Basque', 'Zuberoan Basque', 'BASQUE']:\n",
      "Inventory IDs matching the inventory names: {321, 2340, 2615, 2381, 2161, 2419, 179, 2583}\n",
      "Unknown phonemes: {'β': 24938, 'ð': 22095, 'ɣ': 16526, 'θ': 264}\n",
      "Unseen phonemes: {'ʒ', 's̻', 'ĩ', 'äː', 'l̪|l', 'r̺', '˧˥', 'i̯', 't̪|t', 't̻s̻', 'l̺', 'iː', 'n̪|n', 'ʂ', 'h', 'z̺', 'd̪|d', 'dz̻', 'o̞ː', 'r̪|r', 'kʰ', 'tʰ', 'uː', 'z̻', 'χ', 'n̺', 't', 'ũ', 'h̃', 'e̞ː', 'ɾ̪|ɾ', 'e̞', 'ɪ', 'ts̻', 'ẽ̞', 'õ̞', 'ts̺', '˧˩', 's̪|s', 'ä', 'o̞', 'ʈʂ', 'd', 'ỹ', 'pʰ', 'd̠ʒ', 'ɾ̺', 't̪s̪|ts', 'u̯', 'ã̈'}\n",
      "----------------------------------------------------------------------------------------------------\n",
      "INVENTORY ID:\n",
      "\n",
      "Now comparing the phonemes seen in the data with the phonemes in phoible with the specific inventory 2161:\n",
      "Phonemes in inventory: ['b' 'c' 'd̪' 'f' 'j' 'k' 'l' 'm' 'n' 'p' 'r' 's̪̻' 's̺' 't̠ʃ' 't̪'\n",
      " 't̪̻s̪̻' 't̺s̺' 'x' 'ɡ' 'ɲ' 'ɾ' 'ʃ' 'ʎ' '˧˥' '˧˩' 'a' 'ai̯' 'au̯' 'e'\n",
      " 'ei̯' 'eu̯' 'i' 'o' 'oi̯' 'u']\n",
      "Unknown phonemes: {'β': 24938, 'ð': 22095, 'ɣ': 16526, 'ɟ': 2473, 'θ': 264, 'y': 3}\n",
      "Unseen phonemes: {'˧˩', '˧˥'}\n"
     ]
    }
   ],
   "source": [
    "compare_phoneme_sets('Basque', 'eus', ['Basque', 'Zuberoan Basque', 'BASQUE'], 2161)"
   ]
  },
  {
   "cell_type": "markdown",
   "metadata": {},
   "source": [
    "# Hungarian analysis\n",
    "\n",
    "We compare the Hungarian inventories in phoible to our Hungarian dataset. For Hungarian, we use epitran.\n",
    "\n",
    "With our folding dictionary, we get a good match with inventory 2191.\n",
    "\n",
    "Unknown phonemes:\n",
    "* `ŋ` - caused by nasal place assimilation, not always included in inventories but is valid\n",
    "\n",
    "Unseen phonemes:\n",
    "* `d̻z̻ː`, `ʒː`, `d̠ʒː` - long consonants that do not seem to be produced by our tool "
   ]
  },
  {
   "cell_type": "code",
   "execution_count": 27,
   "metadata": {},
   "outputs": [
    {
     "name": "stdout",
     "output_type": "stream",
     "text": [
      "Total phonemes in the dataset: 1155064\n",
      "Unique phonemes: ['b', 'aː', 't̠ʃ', 'i', 'WORD_BOUNDARY', 'm', 'l̪', 'ɛ', 's̻', 'z̻', 'ɡ', 'k', 'o', 'd̪', 'ɑ', 'j', 'ø', 'n̪', 'ɲ', 'u', 't̻s̻', 't̪ː', 'y', 'r̪', 'h', 'v', 'd̠ʒ', 't̪', 'eː', 'oː', 'ʃ', 'ɟʝ', 's̻ː', 'p', 'z̻ː', 'uː', 'øː', 'n̪ː', 'f', 'l̪ː', 'iː', 'ɲː', 'ʃː', 'mː', 'r̪ː', 'kː', 't̠ʃː', 'jː', 'bː', 'cç', 't̻s̻ː', 'd̪ː', 'ɡː', 'ŋ', 'd̻z̻', 'pː', 'ʒ', 'vː', 'cçː', 'hː', 'fː', 'yː', 'ɟʝː', 'ʒː']\n",
      "\n",
      "----------------------------------------------------------------------------------------------------\n",
      "ALL PHOIBLE:\n",
      "Comparing the phonemes seen in the data with all phoible phonemes:\n",
      "Unknown phonemes: None\n",
      "----------------------------------------------------------------------------------------------------\n",
      "LANGUAGE CODE:\n",
      "\n",
      "Comparing the phonemes seen in the data with just the phonemes in phoible with the hun language code:\n",
      "Unknown phonemes: {'ŋ': 614}\n",
      "Unseen phonemes: {'w', 'tː', 's̪', 'ɾ', 'äː', 'd̪z̪', 'dzː', 'dz', 's', 'l', 'c', 'ɔ', 'æ', 't', 'tsː', 'nː', 't̪s̪', 'ɟ', 'n', 'd̻z̻ː', 'dː', 'sː', 'd̠ʒː', 'r', 'ä', 'rː', 'd', 'lː', 'ɒ', 'ts', 'zː', 'z̪', 'z'}\n",
      "\n",
      "Phoible inventories names with the hun language code: ['Hungarian', 'HUNGARIAN']\n",
      "Phoible dialects names with the hun language code: [nan, 'Educated colloquial Hungarian (as spoken in Budapest of the 1990s)', 'Hungarian (Standard)']\n",
      "----------------------------------------------------------------------------------------------------\n",
      "INVENTORIES:\n",
      "\n",
      "Now comparing the phonemes seen in the data with the phonemes in phoible with the specific language names ['HUNGARIAN', 'Hungarian']:\n",
      "Inventory IDs matching the inventory names: {2191, 2557, 358, 183}\n",
      "Unknown phonemes: {'ŋ': 614}\n",
      "Unseen phonemes: {'w', 'tː', 's̪', 'ɾ', 'äː', 'd̪z̪', 'dzː', 'dz', 's', 'l', 'c', 'ɔ', 'æ', 't', 'tsː', 'nː', 't̪s̪', 'ɟ', 'n', 'd̻z̻ː', 'dː', 'sː', 'd̠ʒː', 'r', 'ä', 'rː', 'lː', 'd', 'ɒ', 'ts', 'zː', 'z̪', 'z'}\n",
      "----------------------------------------------------------------------------------------------------\n",
      "INVENTORY ID:\n",
      "\n",
      "Now comparing the phonemes seen in the data with the phonemes in phoible with the specific inventory 2191:\n",
      "Phonemes in inventory: ['b' 'bː' 'cç' 'cçː' 'd̠ʒ' 'd̠ʒː' 'd̪' 'd̪ː' 'd̻z̻' 'd̻z̻ː' 'f' 'fː' 'h'\n",
      " 'hː' 'j' 'jː' 'k' 'kː' 'l̪' 'l̪ː' 'm' 'mː' 'n̪' 'n̪ː' 'p' 'pː' 'r̪' 'r̪ː'\n",
      " 's̻' 's̻ː' 't̠ʃ' 't̠ʃː' 't̪' 't̪ː' 't̻s̻' 't̻s̻ː' 'v' 'vː' 'z̻' 'z̻ː'\n",
      " 'ɟʝ' 'ɟʝː' 'ɡ' 'ɡː' 'ɲ' 'ɲː' 'ʃ' 'ʃː' 'ʒ' 'ʒː' 'aː' 'eː' 'i' 'iː' 'o'\n",
      " 'oː' 'u' 'uː' 'y' 'yː' 'ø' 'øː' 'ɑ' 'ɛ']\n",
      "Unknown phonemes: {'ŋ': 614}\n",
      "Unseen phonemes: {'d̠ʒː', 'd̻z̻ː'}\n"
     ]
    }
   ],
   "source": [
    "compare_phoneme_sets('Hungarian', 'hun', ['HUNGARIAN', 'Hungarian'], 2191)"
   ]
  },
  {
   "cell_type": "markdown",
   "metadata": {},
   "source": [
    "# Romanian analysis\n",
    "\n",
    "We compare the Romanian inventories in phoible to our Romanian dataset. For Romanian, we use phonemizer.\n",
    "\n",
    "With our folding dictionary, we get a close match with inventory 2443 (the other inventories do not include palatalised consonants, which phonemizer produces).\n",
    "\n",
    "The main difference between the output of our tool and inventory 2443 is diphthongs. In Romanian, one view is that there are only two phonemic diphthongs, /oa/ and /ea/, however the traditional view is that there are many diphthongs, which phonemizer seems to produce. We could split the diphthongs into vowel glides, but we leave them for now. \n",
    "\n",
    "Unknown phonemes:\n",
    "* `j`, `w` - valid approximant consonants that are listed in other inventories and Wikipedia but not this inventory\n",
    "* `aɪ`, `uɪ`, `aʊ`, `eɪ`, `iɪ`, `əɪ`, `eʊ`, `iʊ`, `oʊ`, `əʊ`, `eo`, `oɪ`, `yɪ`, `äʊ` - valid Romanian diphthongs that our tool produces but aren't listed in the inventory. Strangely, only the falling diphthongs are produced (not the rising diphthongs).\n",
    "\n",
    "Unseen phonemes:\n",
    "* `i̯`, `u̯` - vowels listed in the inventory that are not produced by our tool. It is unclear these exist in the inventory since we already have `i` and `u`. \n",
    "* `ç` - not listed in other inventories and not produced by our tool."
   ]
  },
  {
   "cell_type": "code",
   "execution_count": 28,
   "metadata": {},
   "outputs": [
    {
     "name": "stdout",
     "output_type": "stream",
     "text": [
      "Total phonemes in the dataset: 690134\n",
      "Unique phonemes: ['m', 'ä', 'n̪', 'WORD_BOUNDARY', 'd̠ʒ', 'i', 'v', 'e̞', 'h', 'ʒ', 'd̪', 'o̞', 'l', 'u', 'ɾ̪', 't̠ʃ', 'p', 'j', 's̪', 'oʊ', 't̪', 'aɪ', 'k', 'w', 'ɡ', 'b', 't̠ʃʲ', 'ʃ', 'ʃʲ', 'ə', 'o̯ä', 'ɨ', 'uɪ', 'f', 'əɪ', 'eɪ', 'tsʲ', 'z̪', 't̪s̪', 'e̯ä', 'zʲ', 'iɪ', 'aʊ', 'nʲ', 'eʊ', 'tʲ', 'iʊ', 'ɾʲ', 'bʲ', 'mʲ', 'sʲ', 'kʲ', 'lʲ', 'eo', 'd̠ʒʲ', 'pʲ', 'dʲ', 'əʊ', 'fʲ', 'vʲ', 'oɪ', 'ʒʲ', 'ɡʲ']\n",
      "\n",
      "----------------------------------------------------------------------------------------------------\n",
      "ALL PHOIBLE:\n",
      "Comparing the phonemes seen in the data with all phoible phonemes:\n",
      "Unknown phonemes: None\n",
      "----------------------------------------------------------------------------------------------------\n",
      "LANGUAGE CODE:\n",
      "\n",
      "Comparing the phonemes seen in the data with just the phonemes in phoible with the ron language code:\n",
      "Unknown phonemes: {'aɪ': 6690, 'uɪ': 2377, 'aʊ': 1614, 'eɪ': 1377, 'iɪ': 1248, 'eʊ': 913, 'əɪ': 577, 'iʊ': 552, 'oʊ': 453, 'əʊ': 165, 'eo': 88, 'oɪ': 48}\n",
      "Unseen phonemes: {'a', 'ɛ̯', 'ɾ', 'e̞o̞', 'i̯', 's', 'ɔ̯', 't', 'e̞a', 'n', 'o', 'e', 'd', 'ç', 'ts', 'r̪', 'o̞a', 'z', 'l̪', 'u̯'}\n",
      "\n",
      "Phoible inventories names with the ron language code: ['Rumanian', 'ROMANIAN', 'Romanian']\n",
      "Phoible dialects names with the ron language code: [nan, 'Romanian (Standard)']\n",
      "----------------------------------------------------------------------------------------------------\n",
      "INVENTORIES:\n",
      "\n",
      "Now comparing the phonemes seen in the data with the phonemes in phoible with the specific language names ['Rumanian', 'ROMANIAN', 'Romanian']:\n",
      "Inventory IDs matching the inventory names: {2443, 165, 527}\n",
      "Unknown phonemes: {'aɪ': 6690, 'uɪ': 2377, 'aʊ': 1614, 'eɪ': 1377, 'iɪ': 1248, 'eʊ': 913, 'əɪ': 577, 'iʊ': 552, 'oʊ': 453, 'əʊ': 165, 'eo': 88, 'oɪ': 48}\n",
      "Unseen phonemes: {'a', 'ɛ̯', 'ɾ', 'e̞o̞', 'i̯', 's', 'ɔ̯', 't', 'e̞a', 'n', 'o', 'e', 'd', 'ç', 'ts', 'r̪', 'o̞a', 'z', 'l̪', 'u̯'}\n",
      "----------------------------------------------------------------------------------------------------\n",
      "INVENTORY ID:\n",
      "\n",
      "Now comparing the phonemes seen in the data with the phonemes in phoible with the specific inventory 2443:\n",
      "Phonemes in inventory: ['b' 'bʲ' 'dʲ' 'd̠ʒ' 'd̠ʒʲ' 'd̪' 'f' 'fʲ' 'h' 'k' 'kʲ' 'l' 'lʲ' 'm' 'mʲ'\n",
      " 'nʲ' 'n̪' 'p' 'pʲ' 'sʲ' 's̪' 'tsʲ' 'tʲ' 't̠ʃ' 't̠ʃʲ' 't̪' 't̪s̪' 'v' 'vʲ'\n",
      " 'zʲ' 'z̪' 'ç' 'ɡ' 'ɡʲ' 'ɾʲ' 'ɾ̪' 'ʃ' 'ʃʲ' 'ʒ' 'ʒʲ' 'ä' 'e̞' 'e̯ä' 'i'\n",
      " 'i̯' 'o̞' 'o̯ä' 'u' 'u̯' 'ə' 'ɨ']\n",
      "Unknown phonemes: {'j': 12261, 'aɪ': 6690, 'uɪ': 2377, 'w': 1852, 'aʊ': 1614, 'eɪ': 1377, 'iɪ': 1248, 'eʊ': 913, 'əɪ': 577, 'iʊ': 552, 'oʊ': 453, 'əʊ': 165, 'eo': 88, 'oɪ': 48}\n",
      "Unseen phonemes: {'u̯', 'ç', 'i̯'}\n"
     ]
    }
   ],
   "source": [
    "compare_phoneme_sets('Romanian', 'ron', ['Rumanian', 'ROMANIAN', 'Romanian'], 2443)"
   ]
  },
  {
   "cell_type": "markdown",
   "metadata": {},
   "source": [
    "# Brazilian Portuguese analysis\n",
    "\n",
    "We compare the Brazilian Portuguese inventories in phoible to our Brazilian Portuguese dataset. For Brazilian Portuguese, we use phonemizer.\n",
    "\n",
    "With our folding dictionary, we get a close match with inventory 2207.\n",
    "\n",
    "Unknown phonemes:\n",
    "* `ɐ`, `õ`, `ɐ̃`, `ĩ`, `ũ` - vowels (mostly nasal) that exist in Brazilian portuguese but are not listed in the inventory (are listed in others)\n",
    "* `w` - consonant that exists in Brazilian portuguese but isn't listed in this inventory (is listed in others)\n",
    "* `d̠ʒ` - palatalised /d/ that isn't listed in the inventory but is valid in Brazilian portuguese\n",
    "\n",
    "Unseen phonemes:\n",
    "* `õɪ̯̃`, `ɔʊ̯`, `uʊ̯`, `ɐ̃ɪ̯̃`, `ũɪ̯̃`, `ʊ̯aɪ̯`, `ʊ̯ɐ̃`, - diphthongs that don't seem to be produced by our tool\n",
    "* `ʎ` - consonant that doesn't seem to be produced by our tool"
   ]
  },
  {
   "cell_type": "code",
   "execution_count": 29,
   "metadata": {},
   "outputs": [
    {
     "name": "stdout",
     "output_type": "stream",
     "text": [
      "Total phonemes in the dataset: 752710\n",
      "Unique phonemes: ['n̪', 'ɐ̃ʊ̯̃', 'WORD_BOUNDARY', 's̪', 'eɪ̯', 'd̠ʒ', 'i', 'a', 'd̪', 'ɐ', 'p', 'r', 'ɔ', 't̪', 'o', 'u', 'eʊ̯', 'm', 'k', 'ɾ', 'ɛ', 'l', 'ɐ̃', 'ẽɪ̯̃', 'ĩ', 'õ', 'e', 'oɪ̯', 'z', 'f', 'ɲ', 'v', 'ɡ', 'w', 'iʊ̯', 'ʒ', 'ʃ', 'oʊ̯', 'aʊ̯', 'b', 'ũ', 'aɪ̯', 'uɪ̯', 'ɣ', 'ɛʊ̯', 'ɔɪ̯', 'ɛɪ̯', 'ũɪ̯̃', 'ts̪', 'ɪ̯', 'ʎ', 'ə', 'ŋ']\n",
      "\n",
      "----------------------------------------------------------------------------------------------------\n",
      "ALL PHOIBLE:\n",
      "Comparing the phonemes seen in the data with all phoible phonemes:\n",
      "Unknown phonemes: None\n",
      "----------------------------------------------------------------------------------------------------\n",
      "LANGUAGE CODE:\n",
      "\n",
      "Comparing the phonemes seen in the data with just the phonemes in phoible with the por language code:\n",
      "Unknown phonemes: {'d̠ʒ': 6039, 'ɪ̯': 15, 'ts̪': 8}\n",
      "Unseen phonemes: {'ĕ', 'ŭ', 'eu̜', 'ɐ̃ɪ̯̃', 'au̜', 'ɛu̜', 'ɐi', 's̻', 'i̯', 'x', 'ʁ', 's', 'oi', 'ĩ̯', 'ai', 'z̻', 'u̯', 'ui', 'ũi', 'ɔʊ̯', 'n', 'ɔi', 'ũ̯', 'ɯ̽', 'õɪ̯̃', 'ɯ', 'ɐ̃i', 'ɐ̃u̜', 'l̪ˠ', 'ɛi', 'ä', 'ʊ̯ɐ̃', 'ɫ', 'ẽ', 'ĭ', 'iu̜', 'uʊ̯', 'j', 'z̪', 'õi', 'ʊ̯aɪ̯', 'ɱ', 'ã̈'}\n",
      "\n",
      "Phoible inventories names with the por language code: ['Portuguese', 'Portuguese (European)', 'Portuguese (Brazilian)']\n",
      "Phoible dialects names with the por language code: [nan, 'Lisbon', 'São Paulo', 'Portuguese (Estremenho)']\n",
      "----------------------------------------------------------------------------------------------------\n",
      "INVENTORIES:\n",
      "\n",
      "Now comparing the phonemes seen in the data with the phonemes in phoible with the specific language names ['Portuguese', 'Portuguese (Brazilian)']:\n",
      "Inventory IDs matching the inventory names: {2207, 163, 2623}\n",
      "Unknown phonemes: {'d̠ʒ': 6039, 'ɪ̯': 15, 'ts̪': 8}\n",
      "Unseen phonemes: {'ĕ', 'ŭ', 'ɐ̃ɪ̯̃', 's̻', 'i̯', 'x', 'ʁ', 's', 'ĩ̯', 'z̻', 'ɱ', 'ɔʊ̯', 'n', 'ũ̯', 'ɯ̽', 'õɪ̯̃', 'ä', 'ʊ̯ɐ̃', 'ɫ', 'ẽ', 'ĭ', 'uʊ̯', 'j', 'z̪', 'ʊ̯aɪ̯', 'u̯', 'ã̈'}\n",
      "----------------------------------------------------------------------------------------------------\n",
      "INVENTORY ID:\n",
      "\n",
      "Now comparing the phonemes seen in the data with the phonemes in phoible with the specific inventory 2207:\n",
      "Phonemes in inventory: ['b' 'd̪' 'f' 'k' 'l' 'm' 'n̪' 'p' 'r' 's̪' 't̪' 'v' 'z' 'ɡ' 'ɣ' 'ɲ' 'ɾ'\n",
      " 'ʃ' 'ʎ' 'ʒ' 'a' 'aɪ̯' 'aʊ̯' 'e' 'eɪ̯' 'eʊ̯' 'ẽɪ̯̃' 'i' 'iʊ̯' 'o' 'oɪ̯'\n",
      " 'oʊ̯' 'õɪ̯̃' 'u' 'uɪ̯' 'uʊ̯' 'ũɪ̯̃' 'ɐ̃ɪ̯̃' 'ɐ̃ʊ̯̃' 'ɔ' 'ɔɪ̯' 'ɔʊ̯' 'ɛ'\n",
      " 'ɛɪ̯' 'ɛʊ̯' 'ʊ̯aɪ̯' 'ʊ̯ɐ̃']\n",
      "Unknown phonemes: {'ɐ': 30371, 'ɐ̃': 7471, 'd̠ʒ': 6039, 'õ': 5601, 'ĩ': 4449, 'ũ': 3992, 'w': 3696, 'ɪ̯': 15, 'ts̪': 8, 'ə': 1, 'ŋ': 1}\n",
      "Unseen phonemes: {'ʊ̯ɐ̃', 'ɐ̃ɪ̯̃', 'uʊ̯', 'õɪ̯̃', 'ʊ̯aɪ̯', 'ɔʊ̯'}\n"
     ]
    }
   ],
   "source": [
    "compare_phoneme_sets('PortugueseBr', 'por', ['Portuguese', 'Portuguese (Brazilian)'], 2207)"
   ]
  },
  {
   "cell_type": "markdown",
   "metadata": {},
   "source": [
    "# Irish analysis\n",
    "\n",
    "We compare the Irish inventories in phoible to our Irish dataset. For Irish, we use phonemizer.\n",
    "\n",
    "With a substantial folding dictionary, we get close to inventory 2521. \n",
    "\n",
    "Unknown phonemes:\n",
    "* `w`, `j` - voice approximate phonemes that are listed in other inventories for Irish but not this one. \n",
    "* The rest are sufficiently rare.\n",
    "\n",
    "Unseen phonemes:\n",
    "* `ŋ̟`,  `ʝ`, `ɟ` - consonants that our tool doesn't seem to produce\n",
    "* `ɔʊ`, `uːə`, `ia` - dipthongs that our tool doesn't seem to produce (most of the others are)\n"
   ]
  },
  {
   "cell_type": "markdown",
   "metadata": {},
   "source": [
    "# "
   ]
  },
  {
   "cell_type": "code",
   "execution_count": 30,
   "metadata": {},
   "outputs": [
    {
     "name": "stdout",
     "output_type": "stream",
     "text": [
      "Total phonemes in the dataset: 444292\n",
      "Unique phonemes: ['ə', 'n̪ˠ', 'WORD_BOUNDARY', 'w', 'ɪ', 'l̪ˠ', 'ʃ', 'ɛ̝', 'ɡ', 'ɾ̪ˠ', 'a', 'kʰ', 'mˠ', 'x', 'sˠ', 'd̪ˠ', 'bˠ', 'iː', 'pˠʰ', 'ɾ̪ʲ', 'ɔ̝', 'cʰ', 'eː', 't̪ˠʰ', 'ʊ', 'j', 'h', 'ɑː', 'fˠ', 'l̪ʲ', 'iːə', 'd̠ʒ', 'uːe', 'uː', 't̪ʲʰ', 'vˠ', 'oː', 'd̪ʲ', 'n̪ʲ', 'ŋ', 'i̞', 'ɣ', 'ç', 'ɐɪ', 'mʲ', 'ɐ', 'z', 'pʲʰ', 'fʲ', 'ʒ', 'χ', 'bʲ', 'vʲ', 'tʲ', 'xʲ', 'e']\n",
      "\n",
      "----------------------------------------------------------------------------------------------------\n",
      "ALL PHOIBLE:\n",
      "Comparing the phonemes seen in the data with all phoible phonemes:\n",
      "Unknown phonemes: None\n",
      "----------------------------------------------------------------------------------------------------\n",
      "LANGUAGE CODE:\n",
      "\n",
      "Comparing the phonemes seen in the data with just the phonemes in phoible with the gle language code:\n",
      "Unknown phonemes: {'z': 82, 'ɐ': 76, 'ʒ': 32, 'tʲ': 7, 'χ': 6, 'xʲ': 3}\n",
      "Unseen phonemes: {'k', 'u', 'ɾʲ', 's', 'ɔ', 'ə̯', 'au', 'tʰ', 'kʲʰ', 'l̥ʲ', 't̪ˠ', 'ɡʲ', 'ɟʝ', 'ɾ̥ʲ', 'əi', 'uə', 'əu', 'l̠', 'o̞', 'ɔʊ', 'lˠ', 'n̠', 'ʊ̃', 'd̠z̠ʲ', 'ɤ̯', 'mʷˠ', 'ã', 'l̥ˠ', 'ĩː', 'ɡ̟', 'ɸʲ', 'ɕ', 'e̞', 'e̯', 'ɔː', 'βʲ', 'o', 'ŋʲ', 'ʃʲ', 'ũː', 't̠s̠ʲʰ', 'ɯ̞̯', 'n̥ˠ', 'pʲ', 'ɸʷˠ', 's̻', 'nʲ', 'lʲ', 'c', 'pˠ', 'æ', 'ɤ', 'ŋ̟', 'n̪', 'ʌ', 'ʝ', 'n', 'uːə', 'ia', 'õ̞', 'n̥ʲ', 'ɾ̥ˠ', 'l̠ʲ', 'ɾˠ', 't̠ʃ', 'õː', 'bʷˠ', 'ɸ̃', 'ɑ̃ː', 't̪ʰ', 'l', 'n̠ʲ', 'd̪', 'ua', 't̠ʲ', 'ɪ̃', 'nˠ', 'ɟ', 'ẽ̞', 'd̠ʲ', 'i', 'ʎ', 'ẽː', 'iə', 'æː', 'd', 'ɛ', 'k̟ʰ', 'pʷˠʰ', 'ɲ'}\n",
      "\n",
      "Phoible inventories names with the gle language code: ['Irish Gaelic', 'IRISH', 'Irish']\n",
      "Phoible dialects names with the gle language code: [nan, 'Irish (Gaoth Dobhair)', 'Irish (Corca Dhuibhne)']\n",
      "----------------------------------------------------------------------------------------------------\n",
      "INVENTORIES:\n",
      "\n",
      "Now comparing the phonemes seen in the data with the phonemes in phoible with the specific language names ['Irish', 'Irish Gaelic', 'IRISH']:\n",
      "Inventory IDs matching the inventory names: {2193, 342, 2262, 2521, 156}\n",
      "Unknown phonemes: {'z': 82, 'ɐ': 76, 'ʒ': 32, 'tʲ': 7, 'χ': 6, 'xʲ': 3}\n",
      "Unseen phonemes: {'k', 'u', 'ɾʲ', 's', 'ɔ', 'ə̯', 'au', 'tʰ', 'kʲʰ', 't̪ˠ', 'l̥ʲ', 'ɡʲ', 'ɟʝ', 'ɾ̥ʲ', 'əi', 'uə', 'əu', 'l̠', 'o̞', 'ɔʊ', 'lˠ', 'n̠', 'ʊ̃', 'd̠z̠ʲ', 'ɤ̯', 'mʷˠ', 'ã', 'l̥ˠ', 'ĩː', 'ɡ̟', 'ɸʲ', 'ɕ', 'e̞', 'e̯', 'ɔː', 'o', 'βʲ', 'ŋʲ', 'ʃʲ', 'ũː', 't̠s̠ʲʰ', 'ɯ̞̯', 'n̥ˠ', 'pʲ', 'ɸʷˠ', 's̻', 'nʲ', 'c', 'pˠ', 'lʲ', 'æ', 'ɤ', 'ŋ̟', 'ʌ', 'n̪', 'ʝ', 'n', 'uːə', 'ia', 'õ̞', 'n̥ʲ', 'ɾ̥ˠ', 'l̠ʲ', 'ɾˠ', 't̠ʃ', 'õː', 'bʷˠ', 'ɸ̃', 'ɑ̃ː', 't̪ʰ', 'l', 'n̠ʲ', 'd̪', 'ua', 't̠ʲ', 'ɪ̃', 'nˠ', 'ɟ', 'ẽ̞', 'd̠ʲ', 'i', 'ʎ', 'ẽː', 'iə', 'æː', 'd', 'ɛ', 'k̟ʰ', 'pʷˠʰ', 'ɲ'}\n",
      "----------------------------------------------------------------------------------------------------\n",
      "INVENTORY ID:\n",
      "\n",
      "Now comparing the phonemes seen in the data with the phonemes in phoible with the specific inventory 2521:\n",
      "Phonemes in inventory: ['bʲ' 'bˠ' 'cʰ' 'd̠ʒ' 'd̪ʲ' 'd̪ˠ' 'fʲ' 'fˠ' 'h' 'kʰ' 'l̪ʲ' 'l̪ˠ' 'mʲ' 'mˠ'\n",
      " 'n̪ʲ' 'n̪ˠ' 'pʲʰ' 'pˠʰ' 'sˠ' 't̪ʲʰ' 't̪ˠʰ' 'vʲ' 'vˠ' 'x' 'ç' 'ŋ' 'ŋ̟' 'ɟ'\n",
      " 'ɡ' 'ɣ' 'ɾ̪ʲ' 'ɾ̪ˠ' 'ʃ' 'ʝ' 'a' 'eː' 'ia' 'iː' 'iːə' 'i̞' 'oː' 'uː' 'uːe'\n",
      " 'uːə' 'ɐɪ' 'ɑː' 'ɔʊ' 'ɔ̝' 'ə' 'ɛ̝' 'ɪ' 'ʊ']\n",
      "Unknown phonemes: {'w': 3154, 'j': 1792, 'z': 82, 'ɐ': 76, 'ʒ': 32, 'tʲ': 7, 'χ': 6, 'xʲ': 3, 'e': 3}\n",
      "Unseen phonemes: {'uːə', 'ɔʊ', 'ia', 'ŋ̟', 'ʝ', 'ɟ'}\n"
     ]
    }
   ],
   "source": [
    "compare_phoneme_sets('Irish', 'gle', ['Irish', 'Irish Gaelic', 'IRISH'], 2521)"
   ]
  },
  {
   "cell_type": "markdown",
   "metadata": {},
   "source": [
    "# Turkish analysis\n",
    "\n",
    "We compare the Turkish inventories in phoible to our Turkish dataset. For Turkish, we use phonemizer.\n",
    "\n",
    "With our folding dictionary, we get close to inventory 2217. \n",
    "\n",
    "Unknown phonemes are all sufficiently rare.\n",
    "\n",
    "Unseen phonemes are just `ɣ` which is not always included in inventories."
   ]
  },
  {
   "cell_type": "code",
   "execution_count": 31,
   "metadata": {},
   "outputs": [
    {
     "name": "stdout",
     "output_type": "stream",
     "text": [
      "Total phonemes in the dataset: 500533\n",
      "Unique phonemes: ['a', 'j', 'WORD_BOUNDARY', 'ɟ', 'œ', 'ɾ', 'd̪', 'y', 'n̪', 'm', 'eː', 'd̠ʒ', 'i', 'o', 'u', 'k', 'l̪ˠ', 'ɯ', 'e', 'z̪', 'ɡ', 'b', 'ʃ', 's̪', 't̠ʃ', 'lʲ', 'iː', 'f', 't̪', 'p', 'h', 'v', 'aː', 'pː', 'bː', 'uː', 'ʒ', 'ɣ', 'c', 'ɡː', 'w']\n",
      "\n",
      "----------------------------------------------------------------------------------------------------\n",
      "ALL PHOIBLE:\n",
      "Comparing the phonemes seen in the data with all phoible phonemes:\n",
      "Unknown phonemes: None\n",
      "----------------------------------------------------------------------------------------------------\n",
      "LANGUAGE CODE:\n",
      "\n",
      "Comparing the phonemes seen in the data with just the phonemes in phoible with the tur language code:\n",
      "Unknown phonemes: {'pː': 24, 'w': 15, 'bː': 10, 'ɡː': 2}\n",
      "Unseen phonemes: {'ɛː', 's̻', 'äː', 'l̪|l', 't̠ʃʰ', 'ø̞', 's', 'l', 'æ', 'o̞ː', 'kʰ', 'tʰ', 'z̻', 'd̻', 'e̞ː', 'ɪ', 'e̞', 'ʊ', 'n', 'ɫ̻', 'n̻', 't̻ʰ', 'cʰ', 'ʎ', 'r', 'ä', 'ʏ', 'o̞', 'œː', 'ʋ', 'd', 'ɛ', 'pʰ', 'l̻', 'ɯː', 'ɯ̞', 'z', 'ʔ', 'ɾ̻', 'yː'}\n",
      "\n",
      "Phoible inventories names with the tur language code: ['Turkish', 'TURKISH']\n",
      "Phoible dialects names with the tur language code: [nan, 'Standard Turkish (Istanbul)', 'Turkish (Standard)']\n",
      "----------------------------------------------------------------------------------------------------\n",
      "INVENTORIES:\n",
      "\n",
      "Now comparing the phonemes seen in the data with the phonemes in phoible with the specific language names ['Turkish', 'TURKISH']:\n",
      "Inventory IDs matching the inventory names: {2416, 2217, 186, 597}\n",
      "Unknown phonemes: {'pː': 24, 'w': 15, 'bː': 10, 'ɡː': 2}\n",
      "Unseen phonemes: {'ɛː', 's̻', 'äː', 'l̪|l', 't̠ʃʰ', 'ø̞', 's', 'l', 'æ', 'o̞ː', 'kʰ', 'tʰ', 'z̻', 'd̻', 'e̞ː', 'ɪ', 'e̞', 'ʊ', 'n', 'ɫ̻', 'n̻', 't̻ʰ', 'cʰ', 'ʎ', 'r', 'ä', 'ʏ', 'o̞', 'œː', 'ʋ', 'd', 'ɛ', 'pʰ', 'l̻', 'ɯː', 'ɯ̞', 'z', 'ʔ', 'ɾ̻', 'yː'}\n",
      "----------------------------------------------------------------------------------------------------\n",
      "INVENTORY ID:\n",
      "\n",
      "Now comparing the phonemes seen in the data with the phonemes in phoible with the specific inventory 2217:\n",
      "Phonemes in inventory: ['b' 'c' 'd̠ʒ' 'd̪' 'f' 'h' 'j' 'k' 'lʲ' 'l̪ˠ' 'm' 'n̪' 'p' 's̪' 't̠ʃ'\n",
      " 't̪' 'v' 'z̪' 'ɟ' 'ɡ' 'ɣ' 'ɾ' 'ʃ' 'ʒ' 'a' 'aː' 'e' 'eː' 'i' 'iː' 'o' 'u'\n",
      " 'uː' 'y' 'œ' 'ɯ']\n",
      "Unknown phonemes: {'pː': 24, 'w': 15, 'bː': 10, 'ɡː': 2}\n",
      "Unseen phonemes: None\n"
     ]
    }
   ],
   "source": [
    "compare_phoneme_sets('Turkish', 'tur', ['Turkish', 'TURKISH'], 2217)"
   ]
  },
  {
   "cell_type": "markdown",
   "metadata": {},
   "source": [
    "# Quechua analysis\n",
    "\n",
    "We compare the Quechua inventories in phoible to our Quechua dataset. For Quechua, we use phonemizer.\n",
    "\n",
    "There are many Quechuan languages and many phoible inventories. With our folding dictionary, we get close to inventory 104, but there is still a lot of disagreement. \n",
    "\n",
    "Unknown phonemes:\n",
    "* `d`, `g`, `f` - consonants that aren't listed in this inventory but are in others\n",
    "* `aː` - a vowel not in this inventory but listed in others\n",
    "* Remaining are sufficiently rare\n",
    "\n",
    "There are several phonemes in inventory 104 that are not seen in our data, which could be an issue."
   ]
  },
  {
   "cell_type": "code",
   "execution_count": 32,
   "metadata": {},
   "outputs": [
    {
     "name": "stdout",
     "output_type": "stream",
     "text": [
      "Total phonemes in the dataset: 328326\n",
      "Unique phonemes: ['d', 'aː', 'WORD_BOUNDARY', 't', 'a', 'ɪ', 'r', 't̠ʃ', 'n', 'm', 's', 'h', 'ɛ', 'p', 'ɔ', 'ʊ', 'β', 'ɡ', 'l', 'k', 'q', 'w', 'j', 'ʎ', 'pʼ', 'ʔ', 'kʼ', 'f', 'ɪː', 'tʼ', 't̠ʃʼ', 'qʼ', 'ʊː', 'ɛː']\n",
      "\n",
      "----------------------------------------------------------------------------------------------------\n",
      "ALL PHOIBLE:\n",
      "Comparing the phonemes seen in the data with all phoible phonemes:\n",
      "Unknown phonemes: None\n",
      "----------------------------------------------------------------------------------------------------\n",
      "LANGUAGE CODE:\n",
      "\n",
      "Comparing the phonemes seen in the data with just the phonemes in phoible with the quh language code:\n",
      "Unknown phonemes: {'aː': 1252, 'd': 560, 'ɡ': 411, 'f': 197, 'ɪː': 156, 'ɛː': 14, 'ʊː': 7}\n",
      "Unseen phonemes: {'ʃ', 'ɾ', 'l̪|l', 't̠ʃʰ', 't̪|t', 'n̪|n', 'ɸ', 'r̪|r', 'ɣ', 'kʰ', 'tʰ', 't̪ʼ|tʼ', 'ɾ̪|ɾ', 'qʰ', 'ð', 's̪|s', 't̪ʰ|tʰ', 'pʰ', 'ɲ'}\n",
      "\n",
      "Phoible inventories names with the quh language code: ['Quechua', 'QUECHUA']\n",
      "Phoible dialects names with the quh language code: [nan]\n",
      "----------------------------------------------------------------------------------------------------\n",
      "INVENTORIES:\n",
      "\n",
      "Now comparing the phonemes seen in the data with the phonemes in phoible with the specific language names ['Quechua', 'QUECHUA', 'Huallaga (Huanuco) Quechua', 'Ancash Quechua', 'Cajamarca Quechua', 'Cuzco-Collao Quechua', 'Ferreñafe Quechua', 'Imbabura Quichua', 'Jauja-Huanca Quechua', 'North Junín Quechua', 'Ayacucho Quechua', 'Bolivian Quechua', 'Huallaga Huánuco Quechua', 'Huaylas-Conchucos Quechua', 'San Martin Quechua', 'Yaru Quechua', 'Santiago del Estero Quechua', 'Salasca Quechua', 'Tena Quechua']:\n",
      "Inventory IDs matching the inventory names: {1155, 524, 2021, 2022, 104, 2024, 2025, 2026, 2029, 2030, 2031, 2032, 2033, 2034, 2035, 2036, 2037, 2038, 2040, 2041}\n",
      "Unknown phonemes: {'ɪː': 156, 'ɛː': 14, 'ʊː': 7}\n",
      "Unseen phonemes: {'ʃ', 'ʒ', 'ɾ', 'l̪|l', 't̠ʃʰ', 'u', 'ŋ', 'ɢ', 'x', 't̪|t', 'dz', 'iː', 'eː', 'n̪|n', 'ʂ', 'ɸ', 'ʐ', 'r̪|r', 'ɣ', 'kʰ', 'tʰ', 'uː', 't̪ʼ|tʼ', 'χ', 'ɾ̪|ɾ', 'qʰ', 'ð', 'b', 'oː', 'o', 's̪|s', 'i', 't̪ʰ|tʰ', 'e', 'ʈʂ', 'ts', 'pʰ', 'd̠ʒ', 'z', 'ɲ'}\n",
      "----------------------------------------------------------------------------------------------------\n",
      "INVENTORY ID:\n",
      "\n",
      "Now comparing the phonemes seen in the data with the phonemes in phoible with the specific inventory 104:\n",
      "Phonemes in inventory: ['h' 'j' 'k' 'kʰ' 'kʼ' 'l' 'm' 'n' 'p' 'pʰ' 'pʼ' 'q' 'qʰ' 'qʼ' 'r' 's' 't'\n",
      " 'tʰ' 'tʼ' 't̠ʃ' 't̠ʃʰ' 't̠ʃʼ' 'w' 'ð' 'ɣ' 'ɲ' 'ɸ' 'ɾ' 'ʃ' 'ʎ' 'ʔ' 'β' 'a'\n",
      " 'ɔ' 'ɛ' 'ɪ' 'ʊ']\n",
      "Unknown phonemes: {'aː': 1252, 'd': 560, 'ɡ': 411, 'f': 197, 'ɪː': 156, 'ɛː': 14, 'ʊː': 7}\n",
      "Unseen phonemes: {'ð', 'ɸ', 'ʃ', 'ɾ', 'ɣ', 'kʰ', 'pʰ', 'tʰ', 't̠ʃʰ', 'qʰ', 'ɲ'}\n"
     ]
    }
   ],
   "source": [
    "compare_phoneme_sets('Quechua', 'quh', ['Quechua', 'QUECHUA', 'Huallaga (Huanuco) Quechua', 'Ancash Quechua', 'Cajamarca Quechua', 'Cuzco-Collao Quechua', 'Ferreñafe Quechua', 'Imbabura Quichua', 'Jauja-Huanca Quechua', 'North Junín Quechua', 'Ayacucho Quechua', 'Bolivian Quechua', 'Huallaga Huánuco Quechua', 'Huaylas-Conchucos Quechua', 'San Martin Quechua', 'Yaru Quechua', 'Santiago del Estero Quechua', 'Salasca Quechua', 'Tena Quechua' ], 104)"
   ]
  },
  {
   "cell_type": "markdown",
   "metadata": {},
   "source": [
    "# Farsi analysis\n",
    "\n",
    "We compare the Farsi inventory in phoible to our Farsi dataset. For Farsi, we use phonemizer.\n",
    "\n",
    "There are many Quechuan languages and many phoible inventories. With our folding dictionary, we get a very good match with inventory 516. There are no unknown phonemes, just the unseen phonemes `χ`, `ʒ` and `ʔ`."
   ]
  },
  {
   "cell_type": "code",
   "execution_count": 33,
   "metadata": {},
   "outputs": [
    {
     "name": "stdout",
     "output_type": "stream",
     "text": [
      "Total phonemes in the dataset: 221955\n",
      "Unique phonemes: ['b', 'a̟', 's', 'e', 'WORD_BOUNDARY', 'm', 'r', 'j', 'h', 't̠ʃ', 'kʰ', 'd̪', 'n̪', 'z', 'ʃ', 'ɡ', 'i', 'u', 'o', 'f', 't̪ʰ', 'ɑ', 'd̠ʒ', 'pʰ', 'l', 'w', 'ɢ', 'v', 'x', 'ʒ']\n",
      "\n",
      "----------------------------------------------------------------------------------------------------\n",
      "ALL PHOIBLE:\n",
      "Comparing the phonemes seen in the data with all phoible phonemes:\n",
      "Unknown phonemes: None\n",
      "----------------------------------------------------------------------------------------------------\n",
      "LANGUAGE CODE:\n",
      "\n",
      "Comparing the phonemes seen in the data with just the phonemes in phoible with the pes language code:\n",
      "Unknown phonemes: None\n",
      "Unseen phonemes: {'o̞', 'd', 'ɢʁ', 'æ', 'ɣ', 'tʰ', 'ɒ', 'r̪', 't̠ʃʰ', 'χ', 'iː', 'uː', 'e̞', 'ɒː', 'l̪', 'ʔ', 'n'}\n",
      "\n",
      "Phoible inventories names with the pes language code: ['Persian', 'FARSI', 'Farsi']\n",
      "Phoible dialects names with the pes language code: [nan]\n",
      "----------------------------------------------------------------------------------------------------\n",
      "INVENTORIES:\n",
      "\n",
      "Now comparing the phonemes seen in the data with the phonemes in phoible with the specific language names ['FARSI']:\n",
      "Inventory IDs matching the inventory names: {516}\n",
      "Unknown phonemes: {'x': 6}\n",
      "Unseen phonemes: {'ʔ', 'χ'}\n",
      "----------------------------------------------------------------------------------------------------\n",
      "INVENTORY ID:\n",
      "\n",
      "Now comparing the phonemes seen in the data with the phonemes in phoible with the specific inventory 516:\n",
      "Phonemes in inventory: ['b' 'd̠ʒ' 'd̪' 'f' 'h' 'j' 'kʰ' 'l' 'm' 'n̪' 'pʰ' 'r' 's' 't̠ʃ' 't̪ʰ' 'v'\n",
      " 'w' 'z' 'ɡ' 'ɢ' 'ʃ' 'ʒ' 'ʔ' 'χ' 'a̟' 'e' 'i' 'o' 'u' 'ɑ']\n",
      "Unknown phonemes: {'x': 6}\n",
      "Unseen phonemes: {'ʔ', 'χ'}\n"
     ]
    }
   ],
   "source": [
    "compare_phoneme_sets('Farsi', 'pes', ['FARSI' ], 516)"
   ]
  }
 ],
 "metadata": {
  "kernelspec": {
   "display_name": "env",
   "language": "python",
   "name": "python3"
  },
  "language_info": {
   "codemirror_mode": {
    "name": "ipython",
    "version": 3
   },
   "file_extension": ".py",
   "mimetype": "text/x-python",
   "name": "python",
   "nbconvert_exporter": "python",
   "pygments_lexer": "ipython3",
   "version": "3.10.11"
  }
 },
 "nbformat": 4,
 "nbformat_minor": 2
}
